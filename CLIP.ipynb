{
  "nbformat": 4,
  "nbformat_minor": 0,
  "metadata": {
    "kernelspec": {
      "language": "python",
      "display_name": "Python 3",
      "name": "python3"
    },
    "language_info": {
      "name": "python",
      "version": "3.7.10",
      "mimetype": "text/x-python",
      "codemirror_mode": {
        "name": "ipython",
        "version": 3
      },
      "pygments_lexer": "ipython3",
      "nbconvert_exporter": "python",
      "file_extension": ".py"
    },
    "colab": {
      "name": "CLIP.ipynb",
      "provenance": []
    },
    "widgets": {
      "application/vnd.jupyter.widget-state+json": {
        "d234ed7f0b82464da34c509eb54b4e7b": {
          "model_module": "@jupyter-widgets/controls",
          "model_name": "HBoxModel",
          "model_module_version": "1.5.0",
          "state": {
            "_view_name": "HBoxView",
            "_dom_classes": [],
            "_model_name": "HBoxModel",
            "_view_module": "@jupyter-widgets/controls",
            "_model_module_version": "1.5.0",
            "_view_count": null,
            "_view_module_version": "1.5.0",
            "box_style": "",
            "layout": "IPY_MODEL_38255d5e1dd549eba0247fe91caaba7d",
            "_model_module": "@jupyter-widgets/controls",
            "children": [
              "IPY_MODEL_41613ce8ba8c4e42b34fabee48eecfc2",
              "IPY_MODEL_aaaa95cb12544d7a8a59d297233dacd2"
            ]
          }
        },
        "38255d5e1dd549eba0247fe91caaba7d": {
          "model_module": "@jupyter-widgets/base",
          "model_name": "LayoutModel",
          "model_module_version": "1.2.0",
          "state": {
            "_view_name": "LayoutView",
            "grid_template_rows": null,
            "right": null,
            "justify_content": null,
            "_view_module": "@jupyter-widgets/base",
            "overflow": null,
            "_model_module_version": "1.2.0",
            "_view_count": null,
            "flex_flow": null,
            "width": null,
            "min_width": null,
            "border": null,
            "align_items": null,
            "bottom": null,
            "_model_module": "@jupyter-widgets/base",
            "top": null,
            "grid_column": null,
            "overflow_y": null,
            "overflow_x": null,
            "grid_auto_flow": null,
            "grid_area": null,
            "grid_template_columns": null,
            "flex": null,
            "_model_name": "LayoutModel",
            "justify_items": null,
            "grid_row": null,
            "max_height": null,
            "align_content": null,
            "visibility": null,
            "align_self": null,
            "height": null,
            "min_height": null,
            "padding": null,
            "grid_auto_rows": null,
            "grid_gap": null,
            "max_width": null,
            "order": null,
            "_view_module_version": "1.2.0",
            "grid_template_areas": null,
            "object_position": null,
            "object_fit": null,
            "grid_auto_columns": null,
            "margin": null,
            "display": null,
            "left": null
          }
        },
        "41613ce8ba8c4e42b34fabee48eecfc2": {
          "model_module": "@jupyter-widgets/controls",
          "model_name": "FloatProgressModel",
          "model_module_version": "1.5.0",
          "state": {
            "_view_name": "ProgressView",
            "style": "IPY_MODEL_3e147a8707f049249784dba5ca7d02a6",
            "_dom_classes": [],
            "description": "100%",
            "_model_name": "FloatProgressModel",
            "bar_style": "success",
            "max": 25,
            "_view_module": "@jupyter-widgets/controls",
            "_model_module_version": "1.5.0",
            "value": 25,
            "_view_count": null,
            "_view_module_version": "1.5.0",
            "orientation": "horizontal",
            "min": 0,
            "description_tooltip": null,
            "_model_module": "@jupyter-widgets/controls",
            "layout": "IPY_MODEL_174045c444c449a3986cf256dc6097ec"
          }
        },
        "aaaa95cb12544d7a8a59d297233dacd2": {
          "model_module": "@jupyter-widgets/controls",
          "model_name": "HTMLModel",
          "model_module_version": "1.5.0",
          "state": {
            "_view_name": "HTMLView",
            "style": "IPY_MODEL_4a0bccbc8ad04d63a625584204c78dce",
            "_dom_classes": [],
            "description": "",
            "_model_name": "HTMLModel",
            "placeholder": "​",
            "_view_module": "@jupyter-widgets/controls",
            "_model_module_version": "1.5.0",
            "value": " 25/25 [16:40&lt;00:00, 40.02s/it, lr=0.0001, train_loss=10.4]",
            "_view_count": null,
            "_view_module_version": "1.5.0",
            "description_tooltip": null,
            "_model_module": "@jupyter-widgets/controls",
            "layout": "IPY_MODEL_12d70e3e48f84797a861da8ad5df35c2"
          }
        },
        "3e147a8707f049249784dba5ca7d02a6": {
          "model_module": "@jupyter-widgets/controls",
          "model_name": "ProgressStyleModel",
          "model_module_version": "1.5.0",
          "state": {
            "_view_name": "StyleView",
            "_model_name": "ProgressStyleModel",
            "description_width": "initial",
            "_view_module": "@jupyter-widgets/base",
            "_model_module_version": "1.5.0",
            "_view_count": null,
            "_view_module_version": "1.2.0",
            "bar_color": null,
            "_model_module": "@jupyter-widgets/controls"
          }
        },
        "174045c444c449a3986cf256dc6097ec": {
          "model_module": "@jupyter-widgets/base",
          "model_name": "LayoutModel",
          "model_module_version": "1.2.0",
          "state": {
            "_view_name": "LayoutView",
            "grid_template_rows": null,
            "right": null,
            "justify_content": null,
            "_view_module": "@jupyter-widgets/base",
            "overflow": null,
            "_model_module_version": "1.2.0",
            "_view_count": null,
            "flex_flow": null,
            "width": null,
            "min_width": null,
            "border": null,
            "align_items": null,
            "bottom": null,
            "_model_module": "@jupyter-widgets/base",
            "top": null,
            "grid_column": null,
            "overflow_y": null,
            "overflow_x": null,
            "grid_auto_flow": null,
            "grid_area": null,
            "grid_template_columns": null,
            "flex": null,
            "_model_name": "LayoutModel",
            "justify_items": null,
            "grid_row": null,
            "max_height": null,
            "align_content": null,
            "visibility": null,
            "align_self": null,
            "height": null,
            "min_height": null,
            "padding": null,
            "grid_auto_rows": null,
            "grid_gap": null,
            "max_width": null,
            "order": null,
            "_view_module_version": "1.2.0",
            "grid_template_areas": null,
            "object_position": null,
            "object_fit": null,
            "grid_auto_columns": null,
            "margin": null,
            "display": null,
            "left": null
          }
        },
        "4a0bccbc8ad04d63a625584204c78dce": {
          "model_module": "@jupyter-widgets/controls",
          "model_name": "DescriptionStyleModel",
          "model_module_version": "1.5.0",
          "state": {
            "_view_name": "StyleView",
            "_model_name": "DescriptionStyleModel",
            "description_width": "",
            "_view_module": "@jupyter-widgets/base",
            "_model_module_version": "1.5.0",
            "_view_count": null,
            "_view_module_version": "1.2.0",
            "_model_module": "@jupyter-widgets/controls"
          }
        },
        "12d70e3e48f84797a861da8ad5df35c2": {
          "model_module": "@jupyter-widgets/base",
          "model_name": "LayoutModel",
          "model_module_version": "1.2.0",
          "state": {
            "_view_name": "LayoutView",
            "grid_template_rows": null,
            "right": null,
            "justify_content": null,
            "_view_module": "@jupyter-widgets/base",
            "overflow": null,
            "_model_module_version": "1.2.0",
            "_view_count": null,
            "flex_flow": null,
            "width": null,
            "min_width": null,
            "border": null,
            "align_items": null,
            "bottom": null,
            "_model_module": "@jupyter-widgets/base",
            "top": null,
            "grid_column": null,
            "overflow_y": null,
            "overflow_x": null,
            "grid_auto_flow": null,
            "grid_area": null,
            "grid_template_columns": null,
            "flex": null,
            "_model_name": "LayoutModel",
            "justify_items": null,
            "grid_row": null,
            "max_height": null,
            "align_content": null,
            "visibility": null,
            "align_self": null,
            "height": null,
            "min_height": null,
            "padding": null,
            "grid_auto_rows": null,
            "grid_gap": null,
            "max_width": null,
            "order": null,
            "_view_module_version": "1.2.0",
            "grid_template_areas": null,
            "object_position": null,
            "object_fit": null,
            "grid_auto_columns": null,
            "margin": null,
            "display": null,
            "left": null
          }
        },
        "0ab1e5d2080545c1a935598e42070503": {
          "model_module": "@jupyter-widgets/controls",
          "model_name": "HBoxModel",
          "model_module_version": "1.5.0",
          "state": {
            "_view_name": "HBoxView",
            "_dom_classes": [],
            "_model_name": "HBoxModel",
            "_view_module": "@jupyter-widgets/controls",
            "_model_module_version": "1.5.0",
            "_view_count": null,
            "_view_module_version": "1.5.0",
            "box_style": "",
            "layout": "IPY_MODEL_534c0d536f5045309353a570b916b935",
            "_model_module": "@jupyter-widgets/controls",
            "children": [
              "IPY_MODEL_b3014fe46bfa478aa40e293724dacffe",
              "IPY_MODEL_256937a566834e6a86721f0ec3b382b6"
            ]
          }
        },
        "534c0d536f5045309353a570b916b935": {
          "model_module": "@jupyter-widgets/base",
          "model_name": "LayoutModel",
          "model_module_version": "1.2.0",
          "state": {
            "_view_name": "LayoutView",
            "grid_template_rows": null,
            "right": null,
            "justify_content": null,
            "_view_module": "@jupyter-widgets/base",
            "overflow": null,
            "_model_module_version": "1.2.0",
            "_view_count": null,
            "flex_flow": null,
            "width": null,
            "min_width": null,
            "border": null,
            "align_items": null,
            "bottom": null,
            "_model_module": "@jupyter-widgets/base",
            "top": null,
            "grid_column": null,
            "overflow_y": null,
            "overflow_x": null,
            "grid_auto_flow": null,
            "grid_area": null,
            "grid_template_columns": null,
            "flex": null,
            "_model_name": "LayoutModel",
            "justify_items": null,
            "grid_row": null,
            "max_height": null,
            "align_content": null,
            "visibility": null,
            "align_self": null,
            "height": null,
            "min_height": null,
            "padding": null,
            "grid_auto_rows": null,
            "grid_gap": null,
            "max_width": null,
            "order": null,
            "_view_module_version": "1.2.0",
            "grid_template_areas": null,
            "object_position": null,
            "object_fit": null,
            "grid_auto_columns": null,
            "margin": null,
            "display": null,
            "left": null
          }
        },
        "b3014fe46bfa478aa40e293724dacffe": {
          "model_module": "@jupyter-widgets/controls",
          "model_name": "FloatProgressModel",
          "model_module_version": "1.5.0",
          "state": {
            "_view_name": "ProgressView",
            "style": "IPY_MODEL_099bbb9aac834002a7e56588163d5e69",
            "_dom_classes": [],
            "description": "100%",
            "_model_name": "FloatProgressModel",
            "bar_style": "success",
            "max": 7,
            "_view_module": "@jupyter-widgets/controls",
            "_model_module_version": "1.5.0",
            "value": 7,
            "_view_count": null,
            "_view_module_version": "1.5.0",
            "orientation": "horizontal",
            "min": 0,
            "description_tooltip": null,
            "_model_module": "@jupyter-widgets/controls",
            "layout": "IPY_MODEL_21fa641b504f48fa9c1405e479645c43"
          }
        },
        "256937a566834e6a86721f0ec3b382b6": {
          "model_module": "@jupyter-widgets/controls",
          "model_name": "HTMLModel",
          "model_module_version": "1.5.0",
          "state": {
            "_view_name": "HTMLView",
            "style": "IPY_MODEL_3c909014847c4187aacdf6c6784c60b3",
            "_dom_classes": [],
            "description": "",
            "_model_name": "HTMLModel",
            "placeholder": "​",
            "_view_module": "@jupyter-widgets/controls",
            "_model_module_version": "1.5.0",
            "value": " 7/7 [01:10&lt;00:00, 10.08s/it, valid_loss=4.08]",
            "_view_count": null,
            "_view_module_version": "1.5.0",
            "description_tooltip": null,
            "_model_module": "@jupyter-widgets/controls",
            "layout": "IPY_MODEL_d46a2a3c39a349acbbcd900f3d5b1602"
          }
        },
        "099bbb9aac834002a7e56588163d5e69": {
          "model_module": "@jupyter-widgets/controls",
          "model_name": "ProgressStyleModel",
          "model_module_version": "1.5.0",
          "state": {
            "_view_name": "StyleView",
            "_model_name": "ProgressStyleModel",
            "description_width": "initial",
            "_view_module": "@jupyter-widgets/base",
            "_model_module_version": "1.5.0",
            "_view_count": null,
            "_view_module_version": "1.2.0",
            "bar_color": null,
            "_model_module": "@jupyter-widgets/controls"
          }
        },
        "21fa641b504f48fa9c1405e479645c43": {
          "model_module": "@jupyter-widgets/base",
          "model_name": "LayoutModel",
          "model_module_version": "1.2.0",
          "state": {
            "_view_name": "LayoutView",
            "grid_template_rows": null,
            "right": null,
            "justify_content": null,
            "_view_module": "@jupyter-widgets/base",
            "overflow": null,
            "_model_module_version": "1.2.0",
            "_view_count": null,
            "flex_flow": null,
            "width": null,
            "min_width": null,
            "border": null,
            "align_items": null,
            "bottom": null,
            "_model_module": "@jupyter-widgets/base",
            "top": null,
            "grid_column": null,
            "overflow_y": null,
            "overflow_x": null,
            "grid_auto_flow": null,
            "grid_area": null,
            "grid_template_columns": null,
            "flex": null,
            "_model_name": "LayoutModel",
            "justify_items": null,
            "grid_row": null,
            "max_height": null,
            "align_content": null,
            "visibility": null,
            "align_self": null,
            "height": null,
            "min_height": null,
            "padding": null,
            "grid_auto_rows": null,
            "grid_gap": null,
            "max_width": null,
            "order": null,
            "_view_module_version": "1.2.0",
            "grid_template_areas": null,
            "object_position": null,
            "object_fit": null,
            "grid_auto_columns": null,
            "margin": null,
            "display": null,
            "left": null
          }
        },
        "3c909014847c4187aacdf6c6784c60b3": {
          "model_module": "@jupyter-widgets/controls",
          "model_name": "DescriptionStyleModel",
          "model_module_version": "1.5.0",
          "state": {
            "_view_name": "StyleView",
            "_model_name": "DescriptionStyleModel",
            "description_width": "",
            "_view_module": "@jupyter-widgets/base",
            "_model_module_version": "1.5.0",
            "_view_count": null,
            "_view_module_version": "1.2.0",
            "_model_module": "@jupyter-widgets/controls"
          }
        },
        "d46a2a3c39a349acbbcd900f3d5b1602": {
          "model_module": "@jupyter-widgets/base",
          "model_name": "LayoutModel",
          "model_module_version": "1.2.0",
          "state": {
            "_view_name": "LayoutView",
            "grid_template_rows": null,
            "right": null,
            "justify_content": null,
            "_view_module": "@jupyter-widgets/base",
            "overflow": null,
            "_model_module_version": "1.2.0",
            "_view_count": null,
            "flex_flow": null,
            "width": null,
            "min_width": null,
            "border": null,
            "align_items": null,
            "bottom": null,
            "_model_module": "@jupyter-widgets/base",
            "top": null,
            "grid_column": null,
            "overflow_y": null,
            "overflow_x": null,
            "grid_auto_flow": null,
            "grid_area": null,
            "grid_template_columns": null,
            "flex": null,
            "_model_name": "LayoutModel",
            "justify_items": null,
            "grid_row": null,
            "max_height": null,
            "align_content": null,
            "visibility": null,
            "align_self": null,
            "height": null,
            "min_height": null,
            "padding": null,
            "grid_auto_rows": null,
            "grid_gap": null,
            "max_width": null,
            "order": null,
            "_view_module_version": "1.2.0",
            "grid_template_areas": null,
            "object_position": null,
            "object_fit": null,
            "grid_auto_columns": null,
            "margin": null,
            "display": null,
            "left": null
          }
        },
        "d5aadc0740b64031a5a304621c418577": {
          "model_module": "@jupyter-widgets/controls",
          "model_name": "HBoxModel",
          "model_module_version": "1.5.0",
          "state": {
            "_view_name": "HBoxView",
            "_dom_classes": [],
            "_model_name": "HBoxModel",
            "_view_module": "@jupyter-widgets/controls",
            "_model_module_version": "1.5.0",
            "_view_count": null,
            "_view_module_version": "1.5.0",
            "box_style": "",
            "layout": "IPY_MODEL_980bebec5d9f4de086a8ece41b221381",
            "_model_module": "@jupyter-widgets/controls",
            "children": [
              "IPY_MODEL_e95d0b8fe8a54188b7bddcfebfeaff64",
              "IPY_MODEL_17c9035232a24ce69471a68352b23963"
            ]
          }
        },
        "980bebec5d9f4de086a8ece41b221381": {
          "model_module": "@jupyter-widgets/base",
          "model_name": "LayoutModel",
          "model_module_version": "1.2.0",
          "state": {
            "_view_name": "LayoutView",
            "grid_template_rows": null,
            "right": null,
            "justify_content": null,
            "_view_module": "@jupyter-widgets/base",
            "overflow": null,
            "_model_module_version": "1.2.0",
            "_view_count": null,
            "flex_flow": null,
            "width": null,
            "min_width": null,
            "border": null,
            "align_items": null,
            "bottom": null,
            "_model_module": "@jupyter-widgets/base",
            "top": null,
            "grid_column": null,
            "overflow_y": null,
            "overflow_x": null,
            "grid_auto_flow": null,
            "grid_area": null,
            "grid_template_columns": null,
            "flex": null,
            "_model_name": "LayoutModel",
            "justify_items": null,
            "grid_row": null,
            "max_height": null,
            "align_content": null,
            "visibility": null,
            "align_self": null,
            "height": null,
            "min_height": null,
            "padding": null,
            "grid_auto_rows": null,
            "grid_gap": null,
            "max_width": null,
            "order": null,
            "_view_module_version": "1.2.0",
            "grid_template_areas": null,
            "object_position": null,
            "object_fit": null,
            "grid_auto_columns": null,
            "margin": null,
            "display": null,
            "left": null
          }
        },
        "e95d0b8fe8a54188b7bddcfebfeaff64": {
          "model_module": "@jupyter-widgets/controls",
          "model_name": "FloatProgressModel",
          "model_module_version": "1.5.0",
          "state": {
            "_view_name": "ProgressView",
            "style": "IPY_MODEL_62c55b2395554b98841ce62bba6ff005",
            "_dom_classes": [],
            "description": "100%",
            "_model_name": "FloatProgressModel",
            "bar_style": "success",
            "max": 25,
            "_view_module": "@jupyter-widgets/controls",
            "_model_module_version": "1.5.0",
            "value": 25,
            "_view_count": null,
            "_view_module_version": "1.5.0",
            "orientation": "horizontal",
            "min": 0,
            "description_tooltip": null,
            "_model_module": "@jupyter-widgets/controls",
            "layout": "IPY_MODEL_2396f4f1ba484ebcac6f1523d144d96d"
          }
        },
        "17c9035232a24ce69471a68352b23963": {
          "model_module": "@jupyter-widgets/controls",
          "model_name": "HTMLModel",
          "model_module_version": "1.5.0",
          "state": {
            "_view_name": "HTMLView",
            "style": "IPY_MODEL_6d5b1f1dcdb84854b50d583c36ccae37",
            "_dom_classes": [],
            "description": "",
            "_model_name": "HTMLModel",
            "placeholder": "​",
            "_view_module": "@jupyter-widgets/controls",
            "_model_module_version": "1.5.0",
            "value": " 25/25 [47:31&lt;00:00, 114.05s/it, lr=0.0001, train_loss=4.77]",
            "_view_count": null,
            "_view_module_version": "1.5.0",
            "description_tooltip": null,
            "_model_module": "@jupyter-widgets/controls",
            "layout": "IPY_MODEL_d3e050661a7e49b18e68d9c20d48e981"
          }
        },
        "62c55b2395554b98841ce62bba6ff005": {
          "model_module": "@jupyter-widgets/controls",
          "model_name": "ProgressStyleModel",
          "model_module_version": "1.5.0",
          "state": {
            "_view_name": "StyleView",
            "_model_name": "ProgressStyleModel",
            "description_width": "initial",
            "_view_module": "@jupyter-widgets/base",
            "_model_module_version": "1.5.0",
            "_view_count": null,
            "_view_module_version": "1.2.0",
            "bar_color": null,
            "_model_module": "@jupyter-widgets/controls"
          }
        },
        "2396f4f1ba484ebcac6f1523d144d96d": {
          "model_module": "@jupyter-widgets/base",
          "model_name": "LayoutModel",
          "model_module_version": "1.2.0",
          "state": {
            "_view_name": "LayoutView",
            "grid_template_rows": null,
            "right": null,
            "justify_content": null,
            "_view_module": "@jupyter-widgets/base",
            "overflow": null,
            "_model_module_version": "1.2.0",
            "_view_count": null,
            "flex_flow": null,
            "width": null,
            "min_width": null,
            "border": null,
            "align_items": null,
            "bottom": null,
            "_model_module": "@jupyter-widgets/base",
            "top": null,
            "grid_column": null,
            "overflow_y": null,
            "overflow_x": null,
            "grid_auto_flow": null,
            "grid_area": null,
            "grid_template_columns": null,
            "flex": null,
            "_model_name": "LayoutModel",
            "justify_items": null,
            "grid_row": null,
            "max_height": null,
            "align_content": null,
            "visibility": null,
            "align_self": null,
            "height": null,
            "min_height": null,
            "padding": null,
            "grid_auto_rows": null,
            "grid_gap": null,
            "max_width": null,
            "order": null,
            "_view_module_version": "1.2.0",
            "grid_template_areas": null,
            "object_position": null,
            "object_fit": null,
            "grid_auto_columns": null,
            "margin": null,
            "display": null,
            "left": null
          }
        },
        "6d5b1f1dcdb84854b50d583c36ccae37": {
          "model_module": "@jupyter-widgets/controls",
          "model_name": "DescriptionStyleModel",
          "model_module_version": "1.5.0",
          "state": {
            "_view_name": "StyleView",
            "_model_name": "DescriptionStyleModel",
            "description_width": "",
            "_view_module": "@jupyter-widgets/base",
            "_model_module_version": "1.5.0",
            "_view_count": null,
            "_view_module_version": "1.2.0",
            "_model_module": "@jupyter-widgets/controls"
          }
        },
        "d3e050661a7e49b18e68d9c20d48e981": {
          "model_module": "@jupyter-widgets/base",
          "model_name": "LayoutModel",
          "model_module_version": "1.2.0",
          "state": {
            "_view_name": "LayoutView",
            "grid_template_rows": null,
            "right": null,
            "justify_content": null,
            "_view_module": "@jupyter-widgets/base",
            "overflow": null,
            "_model_module_version": "1.2.0",
            "_view_count": null,
            "flex_flow": null,
            "width": null,
            "min_width": null,
            "border": null,
            "align_items": null,
            "bottom": null,
            "_model_module": "@jupyter-widgets/base",
            "top": null,
            "grid_column": null,
            "overflow_y": null,
            "overflow_x": null,
            "grid_auto_flow": null,
            "grid_area": null,
            "grid_template_columns": null,
            "flex": null,
            "_model_name": "LayoutModel",
            "justify_items": null,
            "grid_row": null,
            "max_height": null,
            "align_content": null,
            "visibility": null,
            "align_self": null,
            "height": null,
            "min_height": null,
            "padding": null,
            "grid_auto_rows": null,
            "grid_gap": null,
            "max_width": null,
            "order": null,
            "_view_module_version": "1.2.0",
            "grid_template_areas": null,
            "object_position": null,
            "object_fit": null,
            "grid_auto_columns": null,
            "margin": null,
            "display": null,
            "left": null
          }
        },
        "f7dd5e5d3d2147498b04b40b5f0513ab": {
          "model_module": "@jupyter-widgets/controls",
          "model_name": "HBoxModel",
          "model_module_version": "1.5.0",
          "state": {
            "_view_name": "HBoxView",
            "_dom_classes": [],
            "_model_name": "HBoxModel",
            "_view_module": "@jupyter-widgets/controls",
            "_model_module_version": "1.5.0",
            "_view_count": null,
            "_view_module_version": "1.5.0",
            "box_style": "",
            "layout": "IPY_MODEL_0ee752de049f405ab6e74b40e15d8332",
            "_model_module": "@jupyter-widgets/controls",
            "children": [
              "IPY_MODEL_ea6763774598455e8b6385207ae15235",
              "IPY_MODEL_8ebd1a6df41448798c914fff6950dc77"
            ]
          }
        },
        "0ee752de049f405ab6e74b40e15d8332": {
          "model_module": "@jupyter-widgets/base",
          "model_name": "LayoutModel",
          "model_module_version": "1.2.0",
          "state": {
            "_view_name": "LayoutView",
            "grid_template_rows": null,
            "right": null,
            "justify_content": null,
            "_view_module": "@jupyter-widgets/base",
            "overflow": null,
            "_model_module_version": "1.2.0",
            "_view_count": null,
            "flex_flow": null,
            "width": null,
            "min_width": null,
            "border": null,
            "align_items": null,
            "bottom": null,
            "_model_module": "@jupyter-widgets/base",
            "top": null,
            "grid_column": null,
            "overflow_y": null,
            "overflow_x": null,
            "grid_auto_flow": null,
            "grid_area": null,
            "grid_template_columns": null,
            "flex": null,
            "_model_name": "LayoutModel",
            "justify_items": null,
            "grid_row": null,
            "max_height": null,
            "align_content": null,
            "visibility": null,
            "align_self": null,
            "height": null,
            "min_height": null,
            "padding": null,
            "grid_auto_rows": null,
            "grid_gap": null,
            "max_width": null,
            "order": null,
            "_view_module_version": "1.2.0",
            "grid_template_areas": null,
            "object_position": null,
            "object_fit": null,
            "grid_auto_columns": null,
            "margin": null,
            "display": null,
            "left": null
          }
        },
        "ea6763774598455e8b6385207ae15235": {
          "model_module": "@jupyter-widgets/controls",
          "model_name": "FloatProgressModel",
          "model_module_version": "1.5.0",
          "state": {
            "_view_name": "ProgressView",
            "style": "IPY_MODEL_d71483d473e6482c8cbcc0935b12fb5c",
            "_dom_classes": [],
            "description": "100%",
            "_model_name": "FloatProgressModel",
            "bar_style": "success",
            "max": 7,
            "_view_module": "@jupyter-widgets/controls",
            "_model_module_version": "1.5.0",
            "value": 7,
            "_view_count": null,
            "_view_module_version": "1.5.0",
            "orientation": "horizontal",
            "min": 0,
            "description_tooltip": null,
            "_model_module": "@jupyter-widgets/controls",
            "layout": "IPY_MODEL_cfc769d5367c4871ada91956c58e31e8"
          }
        },
        "8ebd1a6df41448798c914fff6950dc77": {
          "model_module": "@jupyter-widgets/controls",
          "model_name": "HTMLModel",
          "model_module_version": "1.5.0",
          "state": {
            "_view_name": "HTMLView",
            "style": "IPY_MODEL_f86156de845849a39b3dd70c98b0cf5f",
            "_dom_classes": [],
            "description": "",
            "_model_name": "HTMLModel",
            "placeholder": "​",
            "_view_module": "@jupyter-widgets/controls",
            "_model_module_version": "1.5.0",
            "value": " 7/7 [01:09&lt;00:00,  9.99s/it, valid_loss=3.74]",
            "_view_count": null,
            "_view_module_version": "1.5.0",
            "description_tooltip": null,
            "_model_module": "@jupyter-widgets/controls",
            "layout": "IPY_MODEL_0578b3ff03e6459ca67b682cc465eb5e"
          }
        },
        "d71483d473e6482c8cbcc0935b12fb5c": {
          "model_module": "@jupyter-widgets/controls",
          "model_name": "ProgressStyleModel",
          "model_module_version": "1.5.0",
          "state": {
            "_view_name": "StyleView",
            "_model_name": "ProgressStyleModel",
            "description_width": "initial",
            "_view_module": "@jupyter-widgets/base",
            "_model_module_version": "1.5.0",
            "_view_count": null,
            "_view_module_version": "1.2.0",
            "bar_color": null,
            "_model_module": "@jupyter-widgets/controls"
          }
        },
        "cfc769d5367c4871ada91956c58e31e8": {
          "model_module": "@jupyter-widgets/base",
          "model_name": "LayoutModel",
          "model_module_version": "1.2.0",
          "state": {
            "_view_name": "LayoutView",
            "grid_template_rows": null,
            "right": null,
            "justify_content": null,
            "_view_module": "@jupyter-widgets/base",
            "overflow": null,
            "_model_module_version": "1.2.0",
            "_view_count": null,
            "flex_flow": null,
            "width": null,
            "min_width": null,
            "border": null,
            "align_items": null,
            "bottom": null,
            "_model_module": "@jupyter-widgets/base",
            "top": null,
            "grid_column": null,
            "overflow_y": null,
            "overflow_x": null,
            "grid_auto_flow": null,
            "grid_area": null,
            "grid_template_columns": null,
            "flex": null,
            "_model_name": "LayoutModel",
            "justify_items": null,
            "grid_row": null,
            "max_height": null,
            "align_content": null,
            "visibility": null,
            "align_self": null,
            "height": null,
            "min_height": null,
            "padding": null,
            "grid_auto_rows": null,
            "grid_gap": null,
            "max_width": null,
            "order": null,
            "_view_module_version": "1.2.0",
            "grid_template_areas": null,
            "object_position": null,
            "object_fit": null,
            "grid_auto_columns": null,
            "margin": null,
            "display": null,
            "left": null
          }
        },
        "f86156de845849a39b3dd70c98b0cf5f": {
          "model_module": "@jupyter-widgets/controls",
          "model_name": "DescriptionStyleModel",
          "model_module_version": "1.5.0",
          "state": {
            "_view_name": "StyleView",
            "_model_name": "DescriptionStyleModel",
            "description_width": "",
            "_view_module": "@jupyter-widgets/base",
            "_model_module_version": "1.5.0",
            "_view_count": null,
            "_view_module_version": "1.2.0",
            "_model_module": "@jupyter-widgets/controls"
          }
        },
        "0578b3ff03e6459ca67b682cc465eb5e": {
          "model_module": "@jupyter-widgets/base",
          "model_name": "LayoutModel",
          "model_module_version": "1.2.0",
          "state": {
            "_view_name": "LayoutView",
            "grid_template_rows": null,
            "right": null,
            "justify_content": null,
            "_view_module": "@jupyter-widgets/base",
            "overflow": null,
            "_model_module_version": "1.2.0",
            "_view_count": null,
            "flex_flow": null,
            "width": null,
            "min_width": null,
            "border": null,
            "align_items": null,
            "bottom": null,
            "_model_module": "@jupyter-widgets/base",
            "top": null,
            "grid_column": null,
            "overflow_y": null,
            "overflow_x": null,
            "grid_auto_flow": null,
            "grid_area": null,
            "grid_template_columns": null,
            "flex": null,
            "_model_name": "LayoutModel",
            "justify_items": null,
            "grid_row": null,
            "max_height": null,
            "align_content": null,
            "visibility": null,
            "align_self": null,
            "height": null,
            "min_height": null,
            "padding": null,
            "grid_auto_rows": null,
            "grid_gap": null,
            "max_width": null,
            "order": null,
            "_view_module_version": "1.2.0",
            "grid_template_areas": null,
            "object_position": null,
            "object_fit": null,
            "grid_auto_columns": null,
            "margin": null,
            "display": null,
            "left": null
          }
        },
        "c66acebd283d43ad840d26cad5543658": {
          "model_module": "@jupyter-widgets/controls",
          "model_name": "HBoxModel",
          "model_module_version": "1.5.0",
          "state": {
            "_view_name": "HBoxView",
            "_dom_classes": [],
            "_model_name": "HBoxModel",
            "_view_module": "@jupyter-widgets/controls",
            "_model_module_version": "1.5.0",
            "_view_count": null,
            "_view_module_version": "1.5.0",
            "box_style": "",
            "layout": "IPY_MODEL_7ee14a9e2fce4f9c992d2c741890f133",
            "_model_module": "@jupyter-widgets/controls",
            "children": [
              "IPY_MODEL_e4e2dfce2aa345f0a9c7ff2ffdebd023",
              "IPY_MODEL_78d911589a9346fbbcdeafd9a24ee0e7"
            ]
          }
        },
        "7ee14a9e2fce4f9c992d2c741890f133": {
          "model_module": "@jupyter-widgets/base",
          "model_name": "LayoutModel",
          "model_module_version": "1.2.0",
          "state": {
            "_view_name": "LayoutView",
            "grid_template_rows": null,
            "right": null,
            "justify_content": null,
            "_view_module": "@jupyter-widgets/base",
            "overflow": null,
            "_model_module_version": "1.2.0",
            "_view_count": null,
            "flex_flow": null,
            "width": null,
            "min_width": null,
            "border": null,
            "align_items": null,
            "bottom": null,
            "_model_module": "@jupyter-widgets/base",
            "top": null,
            "grid_column": null,
            "overflow_y": null,
            "overflow_x": null,
            "grid_auto_flow": null,
            "grid_area": null,
            "grid_template_columns": null,
            "flex": null,
            "_model_name": "LayoutModel",
            "justify_items": null,
            "grid_row": null,
            "max_height": null,
            "align_content": null,
            "visibility": null,
            "align_self": null,
            "height": null,
            "min_height": null,
            "padding": null,
            "grid_auto_rows": null,
            "grid_gap": null,
            "max_width": null,
            "order": null,
            "_view_module_version": "1.2.0",
            "grid_template_areas": null,
            "object_position": null,
            "object_fit": null,
            "grid_auto_columns": null,
            "margin": null,
            "display": null,
            "left": null
          }
        },
        "e4e2dfce2aa345f0a9c7ff2ffdebd023": {
          "model_module": "@jupyter-widgets/controls",
          "model_name": "FloatProgressModel",
          "model_module_version": "1.5.0",
          "state": {
            "_view_name": "ProgressView",
            "style": "IPY_MODEL_6b96062b94d2448082604902d7a7938f",
            "_dom_classes": [],
            "description": "100%",
            "_model_name": "FloatProgressModel",
            "bar_style": "success",
            "max": 25,
            "_view_module": "@jupyter-widgets/controls",
            "_model_module_version": "1.5.0",
            "value": 25,
            "_view_count": null,
            "_view_module_version": "1.5.0",
            "orientation": "horizontal",
            "min": 0,
            "description_tooltip": null,
            "_model_module": "@jupyter-widgets/controls",
            "layout": "IPY_MODEL_f7cb5b85ec8447b9aaf79cf464193a73"
          }
        },
        "78d911589a9346fbbcdeafd9a24ee0e7": {
          "model_module": "@jupyter-widgets/controls",
          "model_name": "HTMLModel",
          "model_module_version": "1.5.0",
          "state": {
            "_view_name": "HTMLView",
            "style": "IPY_MODEL_4c184db85a6f4af5ab83bfcccceb8498",
            "_dom_classes": [],
            "description": "",
            "_model_name": "HTMLModel",
            "placeholder": "​",
            "_view_module": "@jupyter-widgets/controls",
            "_model_module_version": "1.5.0",
            "value": " 25/25 [17:19&lt;00:00, 41.57s/it, lr=0.0001, train_loss=4.09]",
            "_view_count": null,
            "_view_module_version": "1.5.0",
            "description_tooltip": null,
            "_model_module": "@jupyter-widgets/controls",
            "layout": "IPY_MODEL_55c3e88c841c4751926ddbd6d7ccd078"
          }
        },
        "6b96062b94d2448082604902d7a7938f": {
          "model_module": "@jupyter-widgets/controls",
          "model_name": "ProgressStyleModel",
          "model_module_version": "1.5.0",
          "state": {
            "_view_name": "StyleView",
            "_model_name": "ProgressStyleModel",
            "description_width": "initial",
            "_view_module": "@jupyter-widgets/base",
            "_model_module_version": "1.5.0",
            "_view_count": null,
            "_view_module_version": "1.2.0",
            "bar_color": null,
            "_model_module": "@jupyter-widgets/controls"
          }
        },
        "f7cb5b85ec8447b9aaf79cf464193a73": {
          "model_module": "@jupyter-widgets/base",
          "model_name": "LayoutModel",
          "model_module_version": "1.2.0",
          "state": {
            "_view_name": "LayoutView",
            "grid_template_rows": null,
            "right": null,
            "justify_content": null,
            "_view_module": "@jupyter-widgets/base",
            "overflow": null,
            "_model_module_version": "1.2.0",
            "_view_count": null,
            "flex_flow": null,
            "width": null,
            "min_width": null,
            "border": null,
            "align_items": null,
            "bottom": null,
            "_model_module": "@jupyter-widgets/base",
            "top": null,
            "grid_column": null,
            "overflow_y": null,
            "overflow_x": null,
            "grid_auto_flow": null,
            "grid_area": null,
            "grid_template_columns": null,
            "flex": null,
            "_model_name": "LayoutModel",
            "justify_items": null,
            "grid_row": null,
            "max_height": null,
            "align_content": null,
            "visibility": null,
            "align_self": null,
            "height": null,
            "min_height": null,
            "padding": null,
            "grid_auto_rows": null,
            "grid_gap": null,
            "max_width": null,
            "order": null,
            "_view_module_version": "1.2.0",
            "grid_template_areas": null,
            "object_position": null,
            "object_fit": null,
            "grid_auto_columns": null,
            "margin": null,
            "display": null,
            "left": null
          }
        },
        "4c184db85a6f4af5ab83bfcccceb8498": {
          "model_module": "@jupyter-widgets/controls",
          "model_name": "DescriptionStyleModel",
          "model_module_version": "1.5.0",
          "state": {
            "_view_name": "StyleView",
            "_model_name": "DescriptionStyleModel",
            "description_width": "",
            "_view_module": "@jupyter-widgets/base",
            "_model_module_version": "1.5.0",
            "_view_count": null,
            "_view_module_version": "1.2.0",
            "_model_module": "@jupyter-widgets/controls"
          }
        },
        "55c3e88c841c4751926ddbd6d7ccd078": {
          "model_module": "@jupyter-widgets/base",
          "model_name": "LayoutModel",
          "model_module_version": "1.2.0",
          "state": {
            "_view_name": "LayoutView",
            "grid_template_rows": null,
            "right": null,
            "justify_content": null,
            "_view_module": "@jupyter-widgets/base",
            "overflow": null,
            "_model_module_version": "1.2.0",
            "_view_count": null,
            "flex_flow": null,
            "width": null,
            "min_width": null,
            "border": null,
            "align_items": null,
            "bottom": null,
            "_model_module": "@jupyter-widgets/base",
            "top": null,
            "grid_column": null,
            "overflow_y": null,
            "overflow_x": null,
            "grid_auto_flow": null,
            "grid_area": null,
            "grid_template_columns": null,
            "flex": null,
            "_model_name": "LayoutModel",
            "justify_items": null,
            "grid_row": null,
            "max_height": null,
            "align_content": null,
            "visibility": null,
            "align_self": null,
            "height": null,
            "min_height": null,
            "padding": null,
            "grid_auto_rows": null,
            "grid_gap": null,
            "max_width": null,
            "order": null,
            "_view_module_version": "1.2.0",
            "grid_template_areas": null,
            "object_position": null,
            "object_fit": null,
            "grid_auto_columns": null,
            "margin": null,
            "display": null,
            "left": null
          }
        },
        "653a3e2f8d0d47bbb833537fb23316f1": {
          "model_module": "@jupyter-widgets/controls",
          "model_name": "HBoxModel",
          "model_module_version": "1.5.0",
          "state": {
            "_view_name": "HBoxView",
            "_dom_classes": [],
            "_model_name": "HBoxModel",
            "_view_module": "@jupyter-widgets/controls",
            "_model_module_version": "1.5.0",
            "_view_count": null,
            "_view_module_version": "1.5.0",
            "box_style": "",
            "layout": "IPY_MODEL_e32e865f97ee4384a698d72a16bcbdb4",
            "_model_module": "@jupyter-widgets/controls",
            "children": [
              "IPY_MODEL_9fcccf09cb854063b07b6024777c2ad4",
              "IPY_MODEL_cffd4b3461454f5fac34072a6e74a983"
            ]
          }
        },
        "e32e865f97ee4384a698d72a16bcbdb4": {
          "model_module": "@jupyter-widgets/base",
          "model_name": "LayoutModel",
          "model_module_version": "1.2.0",
          "state": {
            "_view_name": "LayoutView",
            "grid_template_rows": null,
            "right": null,
            "justify_content": null,
            "_view_module": "@jupyter-widgets/base",
            "overflow": null,
            "_model_module_version": "1.2.0",
            "_view_count": null,
            "flex_flow": null,
            "width": null,
            "min_width": null,
            "border": null,
            "align_items": null,
            "bottom": null,
            "_model_module": "@jupyter-widgets/base",
            "top": null,
            "grid_column": null,
            "overflow_y": null,
            "overflow_x": null,
            "grid_auto_flow": null,
            "grid_area": null,
            "grid_template_columns": null,
            "flex": null,
            "_model_name": "LayoutModel",
            "justify_items": null,
            "grid_row": null,
            "max_height": null,
            "align_content": null,
            "visibility": null,
            "align_self": null,
            "height": null,
            "min_height": null,
            "padding": null,
            "grid_auto_rows": null,
            "grid_gap": null,
            "max_width": null,
            "order": null,
            "_view_module_version": "1.2.0",
            "grid_template_areas": null,
            "object_position": null,
            "object_fit": null,
            "grid_auto_columns": null,
            "margin": null,
            "display": null,
            "left": null
          }
        },
        "9fcccf09cb854063b07b6024777c2ad4": {
          "model_module": "@jupyter-widgets/controls",
          "model_name": "FloatProgressModel",
          "model_module_version": "1.5.0",
          "state": {
            "_view_name": "ProgressView",
            "style": "IPY_MODEL_199ca31321644fbdadf774b4a2961dcb",
            "_dom_classes": [],
            "description": "100%",
            "_model_name": "FloatProgressModel",
            "bar_style": "success",
            "max": 7,
            "_view_module": "@jupyter-widgets/controls",
            "_model_module_version": "1.5.0",
            "value": 7,
            "_view_count": null,
            "_view_module_version": "1.5.0",
            "orientation": "horizontal",
            "min": 0,
            "description_tooltip": null,
            "_model_module": "@jupyter-widgets/controls",
            "layout": "IPY_MODEL_582506a6a38c4a78811fa49c3dd23b0e"
          }
        },
        "cffd4b3461454f5fac34072a6e74a983": {
          "model_module": "@jupyter-widgets/controls",
          "model_name": "HTMLModel",
          "model_module_version": "1.5.0",
          "state": {
            "_view_name": "HTMLView",
            "style": "IPY_MODEL_5b62d09d6735444080b961c76410a6e2",
            "_dom_classes": [],
            "description": "",
            "_model_name": "HTMLModel",
            "placeholder": "​",
            "_view_module": "@jupyter-widgets/controls",
            "_model_module_version": "1.5.0",
            "value": " 7/7 [01:08&lt;00:00,  9.73s/it, valid_loss=3.47]",
            "_view_count": null,
            "_view_module_version": "1.5.0",
            "description_tooltip": null,
            "_model_module": "@jupyter-widgets/controls",
            "layout": "IPY_MODEL_6704accc4f4f46aab390fbd4008035de"
          }
        },
        "199ca31321644fbdadf774b4a2961dcb": {
          "model_module": "@jupyter-widgets/controls",
          "model_name": "ProgressStyleModel",
          "model_module_version": "1.5.0",
          "state": {
            "_view_name": "StyleView",
            "_model_name": "ProgressStyleModel",
            "description_width": "initial",
            "_view_module": "@jupyter-widgets/base",
            "_model_module_version": "1.5.0",
            "_view_count": null,
            "_view_module_version": "1.2.0",
            "bar_color": null,
            "_model_module": "@jupyter-widgets/controls"
          }
        },
        "582506a6a38c4a78811fa49c3dd23b0e": {
          "model_module": "@jupyter-widgets/base",
          "model_name": "LayoutModel",
          "model_module_version": "1.2.0",
          "state": {
            "_view_name": "LayoutView",
            "grid_template_rows": null,
            "right": null,
            "justify_content": null,
            "_view_module": "@jupyter-widgets/base",
            "overflow": null,
            "_model_module_version": "1.2.0",
            "_view_count": null,
            "flex_flow": null,
            "width": null,
            "min_width": null,
            "border": null,
            "align_items": null,
            "bottom": null,
            "_model_module": "@jupyter-widgets/base",
            "top": null,
            "grid_column": null,
            "overflow_y": null,
            "overflow_x": null,
            "grid_auto_flow": null,
            "grid_area": null,
            "grid_template_columns": null,
            "flex": null,
            "_model_name": "LayoutModel",
            "justify_items": null,
            "grid_row": null,
            "max_height": null,
            "align_content": null,
            "visibility": null,
            "align_self": null,
            "height": null,
            "min_height": null,
            "padding": null,
            "grid_auto_rows": null,
            "grid_gap": null,
            "max_width": null,
            "order": null,
            "_view_module_version": "1.2.0",
            "grid_template_areas": null,
            "object_position": null,
            "object_fit": null,
            "grid_auto_columns": null,
            "margin": null,
            "display": null,
            "left": null
          }
        },
        "5b62d09d6735444080b961c76410a6e2": {
          "model_module": "@jupyter-widgets/controls",
          "model_name": "DescriptionStyleModel",
          "model_module_version": "1.5.0",
          "state": {
            "_view_name": "StyleView",
            "_model_name": "DescriptionStyleModel",
            "description_width": "",
            "_view_module": "@jupyter-widgets/base",
            "_model_module_version": "1.5.0",
            "_view_count": null,
            "_view_module_version": "1.2.0",
            "_model_module": "@jupyter-widgets/controls"
          }
        },
        "6704accc4f4f46aab390fbd4008035de": {
          "model_module": "@jupyter-widgets/base",
          "model_name": "LayoutModel",
          "model_module_version": "1.2.0",
          "state": {
            "_view_name": "LayoutView",
            "grid_template_rows": null,
            "right": null,
            "justify_content": null,
            "_view_module": "@jupyter-widgets/base",
            "overflow": null,
            "_model_module_version": "1.2.0",
            "_view_count": null,
            "flex_flow": null,
            "width": null,
            "min_width": null,
            "border": null,
            "align_items": null,
            "bottom": null,
            "_model_module": "@jupyter-widgets/base",
            "top": null,
            "grid_column": null,
            "overflow_y": null,
            "overflow_x": null,
            "grid_auto_flow": null,
            "grid_area": null,
            "grid_template_columns": null,
            "flex": null,
            "_model_name": "LayoutModel",
            "justify_items": null,
            "grid_row": null,
            "max_height": null,
            "align_content": null,
            "visibility": null,
            "align_self": null,
            "height": null,
            "min_height": null,
            "padding": null,
            "grid_auto_rows": null,
            "grid_gap": null,
            "max_width": null,
            "order": null,
            "_view_module_version": "1.2.0",
            "grid_template_areas": null,
            "object_position": null,
            "object_fit": null,
            "grid_auto_columns": null,
            "margin": null,
            "display": null,
            "left": null
          }
        },
        "5f06caf2561248cc8cf9e02d61435bb6": {
          "model_module": "@jupyter-widgets/controls",
          "model_name": "HBoxModel",
          "model_module_version": "1.5.0",
          "state": {
            "_view_name": "HBoxView",
            "_dom_classes": [],
            "_model_name": "HBoxModel",
            "_view_module": "@jupyter-widgets/controls",
            "_model_module_version": "1.5.0",
            "_view_count": null,
            "_view_module_version": "1.5.0",
            "box_style": "",
            "layout": "IPY_MODEL_2347e9a8d1cb430ab819d4fd37582cda",
            "_model_module": "@jupyter-widgets/controls",
            "children": [
              "IPY_MODEL_183374584cd54c89b9914c5763e677c0",
              "IPY_MODEL_6ac51cfaa3d04c5f9a3200c491114ecc"
            ]
          }
        },
        "2347e9a8d1cb430ab819d4fd37582cda": {
          "model_module": "@jupyter-widgets/base",
          "model_name": "LayoutModel",
          "model_module_version": "1.2.0",
          "state": {
            "_view_name": "LayoutView",
            "grid_template_rows": null,
            "right": null,
            "justify_content": null,
            "_view_module": "@jupyter-widgets/base",
            "overflow": null,
            "_model_module_version": "1.2.0",
            "_view_count": null,
            "flex_flow": null,
            "width": null,
            "min_width": null,
            "border": null,
            "align_items": null,
            "bottom": null,
            "_model_module": "@jupyter-widgets/base",
            "top": null,
            "grid_column": null,
            "overflow_y": null,
            "overflow_x": null,
            "grid_auto_flow": null,
            "grid_area": null,
            "grid_template_columns": null,
            "flex": null,
            "_model_name": "LayoutModel",
            "justify_items": null,
            "grid_row": null,
            "max_height": null,
            "align_content": null,
            "visibility": null,
            "align_self": null,
            "height": null,
            "min_height": null,
            "padding": null,
            "grid_auto_rows": null,
            "grid_gap": null,
            "max_width": null,
            "order": null,
            "_view_module_version": "1.2.0",
            "grid_template_areas": null,
            "object_position": null,
            "object_fit": null,
            "grid_auto_columns": null,
            "margin": null,
            "display": null,
            "left": null
          }
        },
        "183374584cd54c89b9914c5763e677c0": {
          "model_module": "@jupyter-widgets/controls",
          "model_name": "FloatProgressModel",
          "model_module_version": "1.5.0",
          "state": {
            "_view_name": "ProgressView",
            "style": "IPY_MODEL_0765c76a91b24fa4a20bc5de0ec25177",
            "_dom_classes": [],
            "description": "100%",
            "_model_name": "FloatProgressModel",
            "bar_style": "success",
            "max": 25,
            "_view_module": "@jupyter-widgets/controls",
            "_model_module_version": "1.5.0",
            "value": 25,
            "_view_count": null,
            "_view_module_version": "1.5.0",
            "orientation": "horizontal",
            "min": 0,
            "description_tooltip": null,
            "_model_module": "@jupyter-widgets/controls",
            "layout": "IPY_MODEL_4f3464715d0c41488527d4eec23610c4"
          }
        },
        "6ac51cfaa3d04c5f9a3200c491114ecc": {
          "model_module": "@jupyter-widgets/controls",
          "model_name": "HTMLModel",
          "model_module_version": "1.5.0",
          "state": {
            "_view_name": "HTMLView",
            "style": "IPY_MODEL_a45a13acb63a483ebebbc543d7a0390c",
            "_dom_classes": [],
            "description": "",
            "_model_name": "HTMLModel",
            "placeholder": "​",
            "_view_module": "@jupyter-widgets/controls",
            "_model_module_version": "1.5.0",
            "value": " 25/25 [15:57&lt;00:00, 38.32s/it, lr=0.0001, train_loss=3.8]",
            "_view_count": null,
            "_view_module_version": "1.5.0",
            "description_tooltip": null,
            "_model_module": "@jupyter-widgets/controls",
            "layout": "IPY_MODEL_e5674cb008444831bdd082f23b17c42b"
          }
        },
        "0765c76a91b24fa4a20bc5de0ec25177": {
          "model_module": "@jupyter-widgets/controls",
          "model_name": "ProgressStyleModel",
          "model_module_version": "1.5.0",
          "state": {
            "_view_name": "StyleView",
            "_model_name": "ProgressStyleModel",
            "description_width": "initial",
            "_view_module": "@jupyter-widgets/base",
            "_model_module_version": "1.5.0",
            "_view_count": null,
            "_view_module_version": "1.2.0",
            "bar_color": null,
            "_model_module": "@jupyter-widgets/controls"
          }
        },
        "4f3464715d0c41488527d4eec23610c4": {
          "model_module": "@jupyter-widgets/base",
          "model_name": "LayoutModel",
          "model_module_version": "1.2.0",
          "state": {
            "_view_name": "LayoutView",
            "grid_template_rows": null,
            "right": null,
            "justify_content": null,
            "_view_module": "@jupyter-widgets/base",
            "overflow": null,
            "_model_module_version": "1.2.0",
            "_view_count": null,
            "flex_flow": null,
            "width": null,
            "min_width": null,
            "border": null,
            "align_items": null,
            "bottom": null,
            "_model_module": "@jupyter-widgets/base",
            "top": null,
            "grid_column": null,
            "overflow_y": null,
            "overflow_x": null,
            "grid_auto_flow": null,
            "grid_area": null,
            "grid_template_columns": null,
            "flex": null,
            "_model_name": "LayoutModel",
            "justify_items": null,
            "grid_row": null,
            "max_height": null,
            "align_content": null,
            "visibility": null,
            "align_self": null,
            "height": null,
            "min_height": null,
            "padding": null,
            "grid_auto_rows": null,
            "grid_gap": null,
            "max_width": null,
            "order": null,
            "_view_module_version": "1.2.0",
            "grid_template_areas": null,
            "object_position": null,
            "object_fit": null,
            "grid_auto_columns": null,
            "margin": null,
            "display": null,
            "left": null
          }
        },
        "a45a13acb63a483ebebbc543d7a0390c": {
          "model_module": "@jupyter-widgets/controls",
          "model_name": "DescriptionStyleModel",
          "model_module_version": "1.5.0",
          "state": {
            "_view_name": "StyleView",
            "_model_name": "DescriptionStyleModel",
            "description_width": "",
            "_view_module": "@jupyter-widgets/base",
            "_model_module_version": "1.5.0",
            "_view_count": null,
            "_view_module_version": "1.2.0",
            "_model_module": "@jupyter-widgets/controls"
          }
        },
        "e5674cb008444831bdd082f23b17c42b": {
          "model_module": "@jupyter-widgets/base",
          "model_name": "LayoutModel",
          "model_module_version": "1.2.0",
          "state": {
            "_view_name": "LayoutView",
            "grid_template_rows": null,
            "right": null,
            "justify_content": null,
            "_view_module": "@jupyter-widgets/base",
            "overflow": null,
            "_model_module_version": "1.2.0",
            "_view_count": null,
            "flex_flow": null,
            "width": null,
            "min_width": null,
            "border": null,
            "align_items": null,
            "bottom": null,
            "_model_module": "@jupyter-widgets/base",
            "top": null,
            "grid_column": null,
            "overflow_y": null,
            "overflow_x": null,
            "grid_auto_flow": null,
            "grid_area": null,
            "grid_template_columns": null,
            "flex": null,
            "_model_name": "LayoutModel",
            "justify_items": null,
            "grid_row": null,
            "max_height": null,
            "align_content": null,
            "visibility": null,
            "align_self": null,
            "height": null,
            "min_height": null,
            "padding": null,
            "grid_auto_rows": null,
            "grid_gap": null,
            "max_width": null,
            "order": null,
            "_view_module_version": "1.2.0",
            "grid_template_areas": null,
            "object_position": null,
            "object_fit": null,
            "grid_auto_columns": null,
            "margin": null,
            "display": null,
            "left": null
          }
        },
        "da1ba38a662447d3a54cb5748d333660": {
          "model_module": "@jupyter-widgets/controls",
          "model_name": "HBoxModel",
          "model_module_version": "1.5.0",
          "state": {
            "_view_name": "HBoxView",
            "_dom_classes": [],
            "_model_name": "HBoxModel",
            "_view_module": "@jupyter-widgets/controls",
            "_model_module_version": "1.5.0",
            "_view_count": null,
            "_view_module_version": "1.5.0",
            "box_style": "",
            "layout": "IPY_MODEL_a6d0743d153340f7821e61059f36ceee",
            "_model_module": "@jupyter-widgets/controls",
            "children": [
              "IPY_MODEL_f552c27732eb44b3be251d69696f6750",
              "IPY_MODEL_0f68c3d80990477081a26c28d6dbb689"
            ]
          }
        },
        "a6d0743d153340f7821e61059f36ceee": {
          "model_module": "@jupyter-widgets/base",
          "model_name": "LayoutModel",
          "model_module_version": "1.2.0",
          "state": {
            "_view_name": "LayoutView",
            "grid_template_rows": null,
            "right": null,
            "justify_content": null,
            "_view_module": "@jupyter-widgets/base",
            "overflow": null,
            "_model_module_version": "1.2.0",
            "_view_count": null,
            "flex_flow": null,
            "width": null,
            "min_width": null,
            "border": null,
            "align_items": null,
            "bottom": null,
            "_model_module": "@jupyter-widgets/base",
            "top": null,
            "grid_column": null,
            "overflow_y": null,
            "overflow_x": null,
            "grid_auto_flow": null,
            "grid_area": null,
            "grid_template_columns": null,
            "flex": null,
            "_model_name": "LayoutModel",
            "justify_items": null,
            "grid_row": null,
            "max_height": null,
            "align_content": null,
            "visibility": null,
            "align_self": null,
            "height": null,
            "min_height": null,
            "padding": null,
            "grid_auto_rows": null,
            "grid_gap": null,
            "max_width": null,
            "order": null,
            "_view_module_version": "1.2.0",
            "grid_template_areas": null,
            "object_position": null,
            "object_fit": null,
            "grid_auto_columns": null,
            "margin": null,
            "display": null,
            "left": null
          }
        },
        "f552c27732eb44b3be251d69696f6750": {
          "model_module": "@jupyter-widgets/controls",
          "model_name": "FloatProgressModel",
          "model_module_version": "1.5.0",
          "state": {
            "_view_name": "ProgressView",
            "style": "IPY_MODEL_70094c9a46754827ababdb312b39eea8",
            "_dom_classes": [],
            "description": "100%",
            "_model_name": "FloatProgressModel",
            "bar_style": "success",
            "max": 7,
            "_view_module": "@jupyter-widgets/controls",
            "_model_module_version": "1.5.0",
            "value": 7,
            "_view_count": null,
            "_view_module_version": "1.5.0",
            "orientation": "horizontal",
            "min": 0,
            "description_tooltip": null,
            "_model_module": "@jupyter-widgets/controls",
            "layout": "IPY_MODEL_06749c255d72453fa3655680d0bbb2ca"
          }
        },
        "0f68c3d80990477081a26c28d6dbb689": {
          "model_module": "@jupyter-widgets/controls",
          "model_name": "HTMLModel",
          "model_module_version": "1.5.0",
          "state": {
            "_view_name": "HTMLView",
            "style": "IPY_MODEL_7c6dc21aba5f4b4ea48411f20a192d1c",
            "_dom_classes": [],
            "description": "",
            "_model_name": "HTMLModel",
            "placeholder": "​",
            "_view_module": "@jupyter-widgets/controls",
            "_model_module_version": "1.5.0",
            "value": " 7/7 [01:08&lt;00:00,  9.77s/it, valid_loss=3.43]",
            "_view_count": null,
            "_view_module_version": "1.5.0",
            "description_tooltip": null,
            "_model_module": "@jupyter-widgets/controls",
            "layout": "IPY_MODEL_28cfc61c6c9e4cf6a635c89e1d10c985"
          }
        },
        "70094c9a46754827ababdb312b39eea8": {
          "model_module": "@jupyter-widgets/controls",
          "model_name": "ProgressStyleModel",
          "model_module_version": "1.5.0",
          "state": {
            "_view_name": "StyleView",
            "_model_name": "ProgressStyleModel",
            "description_width": "initial",
            "_view_module": "@jupyter-widgets/base",
            "_model_module_version": "1.5.0",
            "_view_count": null,
            "_view_module_version": "1.2.0",
            "bar_color": null,
            "_model_module": "@jupyter-widgets/controls"
          }
        },
        "06749c255d72453fa3655680d0bbb2ca": {
          "model_module": "@jupyter-widgets/base",
          "model_name": "LayoutModel",
          "model_module_version": "1.2.0",
          "state": {
            "_view_name": "LayoutView",
            "grid_template_rows": null,
            "right": null,
            "justify_content": null,
            "_view_module": "@jupyter-widgets/base",
            "overflow": null,
            "_model_module_version": "1.2.0",
            "_view_count": null,
            "flex_flow": null,
            "width": null,
            "min_width": null,
            "border": null,
            "align_items": null,
            "bottom": null,
            "_model_module": "@jupyter-widgets/base",
            "top": null,
            "grid_column": null,
            "overflow_y": null,
            "overflow_x": null,
            "grid_auto_flow": null,
            "grid_area": null,
            "grid_template_columns": null,
            "flex": null,
            "_model_name": "LayoutModel",
            "justify_items": null,
            "grid_row": null,
            "max_height": null,
            "align_content": null,
            "visibility": null,
            "align_self": null,
            "height": null,
            "min_height": null,
            "padding": null,
            "grid_auto_rows": null,
            "grid_gap": null,
            "max_width": null,
            "order": null,
            "_view_module_version": "1.2.0",
            "grid_template_areas": null,
            "object_position": null,
            "object_fit": null,
            "grid_auto_columns": null,
            "margin": null,
            "display": null,
            "left": null
          }
        },
        "7c6dc21aba5f4b4ea48411f20a192d1c": {
          "model_module": "@jupyter-widgets/controls",
          "model_name": "DescriptionStyleModel",
          "model_module_version": "1.5.0",
          "state": {
            "_view_name": "StyleView",
            "_model_name": "DescriptionStyleModel",
            "description_width": "",
            "_view_module": "@jupyter-widgets/base",
            "_model_module_version": "1.5.0",
            "_view_count": null,
            "_view_module_version": "1.2.0",
            "_model_module": "@jupyter-widgets/controls"
          }
        },
        "28cfc61c6c9e4cf6a635c89e1d10c985": {
          "model_module": "@jupyter-widgets/base",
          "model_name": "LayoutModel",
          "model_module_version": "1.2.0",
          "state": {
            "_view_name": "LayoutView",
            "grid_template_rows": null,
            "right": null,
            "justify_content": null,
            "_view_module": "@jupyter-widgets/base",
            "overflow": null,
            "_model_module_version": "1.2.0",
            "_view_count": null,
            "flex_flow": null,
            "width": null,
            "min_width": null,
            "border": null,
            "align_items": null,
            "bottom": null,
            "_model_module": "@jupyter-widgets/base",
            "top": null,
            "grid_column": null,
            "overflow_y": null,
            "overflow_x": null,
            "grid_auto_flow": null,
            "grid_area": null,
            "grid_template_columns": null,
            "flex": null,
            "_model_name": "LayoutModel",
            "justify_items": null,
            "grid_row": null,
            "max_height": null,
            "align_content": null,
            "visibility": null,
            "align_self": null,
            "height": null,
            "min_height": null,
            "padding": null,
            "grid_auto_rows": null,
            "grid_gap": null,
            "max_width": null,
            "order": null,
            "_view_module_version": "1.2.0",
            "grid_template_areas": null,
            "object_position": null,
            "object_fit": null,
            "grid_auto_columns": null,
            "margin": null,
            "display": null,
            "left": null
          }
        },
        "b568f967976e468ab4bb5c2c142f4a41": {
          "model_module": "@jupyter-widgets/controls",
          "model_name": "HBoxModel",
          "model_module_version": "1.5.0",
          "state": {
            "_view_name": "HBoxView",
            "_dom_classes": [],
            "_model_name": "HBoxModel",
            "_view_module": "@jupyter-widgets/controls",
            "_model_module_version": "1.5.0",
            "_view_count": null,
            "_view_module_version": "1.5.0",
            "box_style": "",
            "layout": "IPY_MODEL_f48072bf8cb64d09a5e7dd0f0e724a63",
            "_model_module": "@jupyter-widgets/controls",
            "children": [
              "IPY_MODEL_bc88dfc57dbc41078500af13fac400f6",
              "IPY_MODEL_2cf221253b1d42f38aed6b09a2bdf3c9"
            ]
          }
        },
        "f48072bf8cb64d09a5e7dd0f0e724a63": {
          "model_module": "@jupyter-widgets/base",
          "model_name": "LayoutModel",
          "model_module_version": "1.2.0",
          "state": {
            "_view_name": "LayoutView",
            "grid_template_rows": null,
            "right": null,
            "justify_content": null,
            "_view_module": "@jupyter-widgets/base",
            "overflow": null,
            "_model_module_version": "1.2.0",
            "_view_count": null,
            "flex_flow": null,
            "width": null,
            "min_width": null,
            "border": null,
            "align_items": null,
            "bottom": null,
            "_model_module": "@jupyter-widgets/base",
            "top": null,
            "grid_column": null,
            "overflow_y": null,
            "overflow_x": null,
            "grid_auto_flow": null,
            "grid_area": null,
            "grid_template_columns": null,
            "flex": null,
            "_model_name": "LayoutModel",
            "justify_items": null,
            "grid_row": null,
            "max_height": null,
            "align_content": null,
            "visibility": null,
            "align_self": null,
            "height": null,
            "min_height": null,
            "padding": null,
            "grid_auto_rows": null,
            "grid_gap": null,
            "max_width": null,
            "order": null,
            "_view_module_version": "1.2.0",
            "grid_template_areas": null,
            "object_position": null,
            "object_fit": null,
            "grid_auto_columns": null,
            "margin": null,
            "display": null,
            "left": null
          }
        },
        "bc88dfc57dbc41078500af13fac400f6": {
          "model_module": "@jupyter-widgets/controls",
          "model_name": "FloatProgressModel",
          "model_module_version": "1.5.0",
          "state": {
            "_view_name": "ProgressView",
            "style": "IPY_MODEL_2c6e1f6e86f94db0b9c3d3b69469661a",
            "_dom_classes": [],
            "description": "100%",
            "_model_name": "FloatProgressModel",
            "bar_style": "success",
            "max": 7,
            "_view_module": "@jupyter-widgets/controls",
            "_model_module_version": "1.5.0",
            "value": 7,
            "_view_count": null,
            "_view_module_version": "1.5.0",
            "orientation": "horizontal",
            "min": 0,
            "description_tooltip": null,
            "_model_module": "@jupyter-widgets/controls",
            "layout": "IPY_MODEL_53b6c979b702442c92813dbc77604932"
          }
        },
        "2cf221253b1d42f38aed6b09a2bdf3c9": {
          "model_module": "@jupyter-widgets/controls",
          "model_name": "HTMLModel",
          "model_module_version": "1.5.0",
          "state": {
            "_view_name": "HTMLView",
            "style": "IPY_MODEL_4c12710f7d3d4cc6bf4759f066d0650d",
            "_dom_classes": [],
            "description": "",
            "_model_name": "HTMLModel",
            "placeholder": "​",
            "_view_module": "@jupyter-widgets/controls",
            "_model_module_version": "1.5.0",
            "value": " 7/7 [00:33&lt;00:00,  4.82s/it]",
            "_view_count": null,
            "_view_module_version": "1.5.0",
            "description_tooltip": null,
            "_model_module": "@jupyter-widgets/controls",
            "layout": "IPY_MODEL_337cf3a6182c4f0589529019bd62197f"
          }
        },
        "2c6e1f6e86f94db0b9c3d3b69469661a": {
          "model_module": "@jupyter-widgets/controls",
          "model_name": "ProgressStyleModel",
          "model_module_version": "1.5.0",
          "state": {
            "_view_name": "StyleView",
            "_model_name": "ProgressStyleModel",
            "description_width": "initial",
            "_view_module": "@jupyter-widgets/base",
            "_model_module_version": "1.5.0",
            "_view_count": null,
            "_view_module_version": "1.2.0",
            "bar_color": null,
            "_model_module": "@jupyter-widgets/controls"
          }
        },
        "53b6c979b702442c92813dbc77604932": {
          "model_module": "@jupyter-widgets/base",
          "model_name": "LayoutModel",
          "model_module_version": "1.2.0",
          "state": {
            "_view_name": "LayoutView",
            "grid_template_rows": null,
            "right": null,
            "justify_content": null,
            "_view_module": "@jupyter-widgets/base",
            "overflow": null,
            "_model_module_version": "1.2.0",
            "_view_count": null,
            "flex_flow": null,
            "width": null,
            "min_width": null,
            "border": null,
            "align_items": null,
            "bottom": null,
            "_model_module": "@jupyter-widgets/base",
            "top": null,
            "grid_column": null,
            "overflow_y": null,
            "overflow_x": null,
            "grid_auto_flow": null,
            "grid_area": null,
            "grid_template_columns": null,
            "flex": null,
            "_model_name": "LayoutModel",
            "justify_items": null,
            "grid_row": null,
            "max_height": null,
            "align_content": null,
            "visibility": null,
            "align_self": null,
            "height": null,
            "min_height": null,
            "padding": null,
            "grid_auto_rows": null,
            "grid_gap": null,
            "max_width": null,
            "order": null,
            "_view_module_version": "1.2.0",
            "grid_template_areas": null,
            "object_position": null,
            "object_fit": null,
            "grid_auto_columns": null,
            "margin": null,
            "display": null,
            "left": null
          }
        },
        "4c12710f7d3d4cc6bf4759f066d0650d": {
          "model_module": "@jupyter-widgets/controls",
          "model_name": "DescriptionStyleModel",
          "model_module_version": "1.5.0",
          "state": {
            "_view_name": "StyleView",
            "_model_name": "DescriptionStyleModel",
            "description_width": "",
            "_view_module": "@jupyter-widgets/base",
            "_model_module_version": "1.5.0",
            "_view_count": null,
            "_view_module_version": "1.2.0",
            "_model_module": "@jupyter-widgets/controls"
          }
        },
        "337cf3a6182c4f0589529019bd62197f": {
          "model_module": "@jupyter-widgets/base",
          "model_name": "LayoutModel",
          "model_module_version": "1.2.0",
          "state": {
            "_view_name": "LayoutView",
            "grid_template_rows": null,
            "right": null,
            "justify_content": null,
            "_view_module": "@jupyter-widgets/base",
            "overflow": null,
            "_model_module_version": "1.2.0",
            "_view_count": null,
            "flex_flow": null,
            "width": null,
            "min_width": null,
            "border": null,
            "align_items": null,
            "bottom": null,
            "_model_module": "@jupyter-widgets/base",
            "top": null,
            "grid_column": null,
            "overflow_y": null,
            "overflow_x": null,
            "grid_auto_flow": null,
            "grid_area": null,
            "grid_template_columns": null,
            "flex": null,
            "_model_name": "LayoutModel",
            "justify_items": null,
            "grid_row": null,
            "max_height": null,
            "align_content": null,
            "visibility": null,
            "align_self": null,
            "height": null,
            "min_height": null,
            "padding": null,
            "grid_auto_rows": null,
            "grid_gap": null,
            "max_width": null,
            "order": null,
            "_view_module_version": "1.2.0",
            "grid_template_areas": null,
            "object_position": null,
            "object_fit": null,
            "grid_auto_columns": null,
            "margin": null,
            "display": null,
            "left": null
          }
        }
      }
    }
  },
  "cells": [
    {
      "cell_type": "markdown",
      "metadata": {
        "id": "6V3LKqTimRSe"
      },
      "source": [
        "# Una Aplicación de CLIP para la Predicción de Formula Esqueletal"
      ]
    },
    {
      "cell_type": "markdown",
      "metadata": {
        "id": "rX2MP_z0lnt7"
      },
      "source": [
        "### Introducción"
      ]
    },
    {
      "cell_type": "markdown",
      "metadata": {
        "id": "9zShCBf4mZFR"
      },
      "source": [
        "Tras el surgimiento de los modelos multi-modalidad **DALL-E** y **CLIP**, que presumen conectar texto e imagenes. Surge la oportunidad de considerar un ejercicio de clasificación opuesto al de la visión por computador; siendo las imagenes generadas como descripción del texto y, en grandes conjuntos de datos, actuando como un clasificador. El ctual modelo se basa en PyTorch ya que en su mayoría se suele desarrollar desde Keras.\n",
        "\n",
        "En este caso... se presenta un breve diagráma para intentar describir el funcionamiento de la red **CLIP**\n",
        "\n",
        "![1_tg7akErlMSyCLQxrMtQIYw.png](data:image/png;base64,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)"
      ]
    },
    {
      "cell_type": "markdown",
      "metadata": {
        "id": "UZbvSHGYC_CV"
      },
      "source": [
        "Este modelo aprende la relación entre una oración completa y la imagen que describe; en el sentido de que cuando se entrena el modelo, dada una oración de entrada, podrá recuperar las imágenes más relacionadas correspondientes a esa oración."
      ]
    },
    {
      "cell_type": "markdown",
      "metadata": {
        "id": "NZIzqPzZn8E0"
      },
      "source": [
        "### Base de Datos"
      ]
    },
    {
      "cell_type": "markdown",
      "metadata": {
        "id": "Nn-ocn41oMQl"
      },
      "source": [
        "El concurso de Kaggle **Bristol-Myers Squibb - Molecular Translation** llevado a cabo del 2 de marzo de 2021 al 3 de junio del mismo año, tenía como objetivo el desarrollar un modelo de clasificación de imagenes de formulas esqueleticas en sus respectivos identificadores quimicos (InChI).\n",
        "\n",
        "Los datos consisten en imagenes de quimicos con su respectivo identificador quimico internacional (InChl). Las imagenes pueden estar rotadas en distintos ángulos y presentar diferentes resoluciones."
      ]
    },
    {
      "cell_type": "code",
      "metadata": {
        "id": "De5sME0NlDq2",
        "colab": {
          "base_uri": "https://localhost:8080/"
        },
        "outputId": "2a4f8472-bdf3-4a0d-caf1-383613e3ce00"
      },
      "source": [
        "!pip install kaggle --upgrade\n",
        "import os\n",
        "\n",
        "os.environ['KAGGLE_USERNAME'] = \"XXXXXX\" # username from the json file\n",
        "os.environ['KAGGLE_KEY'] = \"XXXXXXXXXXXXXXXXXX\" # key from the json file\n",
        "\n",
        "!pip install --upgrade --force-reinstall --no-deps kaggle\n",
        "!kaggle competitions download -c bms-molecular-translation\n",
        "!unzip -u -q /content/bms-molecular-translation.zip"
      ],
      "execution_count": 3,
      "outputs": [
        {
          "output_type": "stream",
          "text": [
            "Requirement already satisfied: kaggle in /usr/local/lib/python3.7/dist-packages (1.5.12)\n",
            "Requirement already satisfied: requests in /usr/local/lib/python3.7/dist-packages (from kaggle) (2.23.0)\n",
            "Requirement already satisfied: tqdm in /usr/local/lib/python3.7/dist-packages (from kaggle) (4.41.1)\n",
            "Requirement already satisfied: python-dateutil in /usr/local/lib/python3.7/dist-packages (from kaggle) (2.8.1)\n",
            "Requirement already satisfied: python-slugify in /usr/local/lib/python3.7/dist-packages (from kaggle) (5.0.2)\n",
            "Requirement already satisfied: six>=1.10 in /usr/local/lib/python3.7/dist-packages (from kaggle) (1.15.0)\n",
            "Requirement already satisfied: certifi in /usr/local/lib/python3.7/dist-packages (from kaggle) (2021.5.30)\n",
            "Requirement already satisfied: urllib3 in /usr/local/lib/python3.7/dist-packages (from kaggle) (1.24.3)\n",
            "Requirement already satisfied: text-unidecode>=1.3 in /usr/local/lib/python3.7/dist-packages (from python-slugify->kaggle) (1.3)\n",
            "Requirement already satisfied: idna<3,>=2.5 in /usr/local/lib/python3.7/dist-packages (from requests->kaggle) (2.10)\n",
            "Requirement already satisfied: chardet<4,>=3.0.2 in /usr/local/lib/python3.7/dist-packages (from requests->kaggle) (3.0.4)\n",
            "Collecting kaggle\n",
            "  Using cached kaggle-1.5.12-py3-none-any.whl\n",
            "Installing collected packages: kaggle\n",
            "  Attempting uninstall: kaggle\n",
            "    Found existing installation: kaggle 1.5.12\n",
            "    Uninstalling kaggle-1.5.12:\n",
            "      Successfully uninstalled kaggle-1.5.12\n",
            "Successfully installed kaggle-1.5.12\n",
            "bms-molecular-translation.zip: Skipping, found more recently modified local copy (use --force to force download)\n"
          ],
          "name": "stdout"
        }
      ]
    },
    {
      "cell_type": "code",
      "metadata": {
        "execution": {
          "iopub.status.busy": "2021-08-09T21:22:50.774373Z",
          "iopub.execute_input": "2021-08-09T21:22:50.774797Z",
          "iopub.status.idle": "2021-08-09T21:23:08.877894Z",
          "shell.execute_reply.started": "2021-08-09T21:22:50.774725Z",
          "shell.execute_reply": "2021-08-09T21:23:08.876687Z"
        },
        "trusted": true,
        "id": "9cOQHd8jkwh9",
        "colab": {
          "base_uri": "https://localhost:8080/"
        },
        "outputId": "8cff37c5-880d-46ac-ea6f-fa628eddb5c1"
      },
      "source": [
        "!pip install timm\n",
        "!pip install transformers"
      ],
      "execution_count": 4,
      "outputs": [
        {
          "output_type": "stream",
          "text": [
            "Requirement already satisfied: timm in /usr/local/lib/python3.7/dist-packages (0.4.12)\n",
            "Requirement already satisfied: torch>=1.4 in /usr/local/lib/python3.7/dist-packages (from timm) (1.9.0+cu102)\n",
            "Requirement already satisfied: torchvision in /usr/local/lib/python3.7/dist-packages (from timm) (0.10.0+cu102)\n",
            "Requirement already satisfied: typing-extensions in /usr/local/lib/python3.7/dist-packages (from torch>=1.4->timm) (3.7.4.3)\n",
            "Requirement already satisfied: pillow>=5.3.0 in /usr/local/lib/python3.7/dist-packages (from torchvision->timm) (7.1.2)\n",
            "Requirement already satisfied: numpy in /usr/local/lib/python3.7/dist-packages (from torchvision->timm) (1.19.5)\n",
            "Requirement already satisfied: transformers in /usr/local/lib/python3.7/dist-packages (4.9.2)\n",
            "Requirement already satisfied: tqdm>=4.27 in /usr/local/lib/python3.7/dist-packages (from transformers) (4.41.1)\n",
            "Requirement already satisfied: filelock in /usr/local/lib/python3.7/dist-packages (from transformers) (3.0.12)\n",
            "Requirement already satisfied: tokenizers<0.11,>=0.10.1 in /usr/local/lib/python3.7/dist-packages (from transformers) (0.10.3)\n",
            "Requirement already satisfied: packaging in /usr/local/lib/python3.7/dist-packages (from transformers) (21.0)\n",
            "Requirement already satisfied: sacremoses in /usr/local/lib/python3.7/dist-packages (from transformers) (0.0.45)\n",
            "Requirement already satisfied: pyyaml>=5.1 in /usr/local/lib/python3.7/dist-packages (from transformers) (5.4.1)\n",
            "Requirement already satisfied: requests in /usr/local/lib/python3.7/dist-packages (from transformers) (2.23.0)\n",
            "Requirement already satisfied: huggingface-hub==0.0.12 in /usr/local/lib/python3.7/dist-packages (from transformers) (0.0.12)\n",
            "Requirement already satisfied: numpy>=1.17 in /usr/local/lib/python3.7/dist-packages (from transformers) (1.19.5)\n",
            "Requirement already satisfied: importlib-metadata in /usr/local/lib/python3.7/dist-packages (from transformers) (4.6.1)\n",
            "Requirement already satisfied: regex!=2019.12.17 in /usr/local/lib/python3.7/dist-packages (from transformers) (2019.12.20)\n",
            "Requirement already satisfied: typing-extensions in /usr/local/lib/python3.7/dist-packages (from huggingface-hub==0.0.12->transformers) (3.7.4.3)\n",
            "Requirement already satisfied: pyparsing>=2.0.2 in /usr/local/lib/python3.7/dist-packages (from packaging->transformers) (2.4.7)\n",
            "Requirement already satisfied: zipp>=0.5 in /usr/local/lib/python3.7/dist-packages (from importlib-metadata->transformers) (3.5.0)\n",
            "Requirement already satisfied: chardet<4,>=3.0.2 in /usr/local/lib/python3.7/dist-packages (from requests->transformers) (3.0.4)\n",
            "Requirement already satisfied: idna<3,>=2.5 in /usr/local/lib/python3.7/dist-packages (from requests->transformers) (2.10)\n",
            "Requirement already satisfied: urllib3!=1.25.0,!=1.25.1,<1.26,>=1.21.1 in /usr/local/lib/python3.7/dist-packages (from requests->transformers) (1.24.3)\n",
            "Requirement already satisfied: certifi>=2017.4.17 in /usr/local/lib/python3.7/dist-packages (from requests->transformers) (2021.5.30)\n",
            "Requirement already satisfied: click in /usr/local/lib/python3.7/dist-packages (from sacremoses->transformers) (7.1.2)\n",
            "Requirement already satisfied: six in /usr/local/lib/python3.7/dist-packages (from sacremoses->transformers) (1.15.0)\n",
            "Requirement already satisfied: joblib in /usr/local/lib/python3.7/dist-packages (from sacremoses->transformers) (1.0.1)\n"
          ],
          "name": "stdout"
        }
      ]
    },
    {
      "cell_type": "code",
      "metadata": {
        "_cell_guid": "b1076dfc-b9ad-4769-8c92-a6c4dae69d19",
        "_uuid": "8f2839f25d086af736a60e9eeb907d3b93b6e0e5",
        "papermill": {
          "duration": 0.034638,
          "end_time": "2021-05-22T01:08:40.606476",
          "exception": false,
          "start_time": "2021-05-22T01:08:40.571838",
          "status": "completed"
        },
        "tags": [],
        "execution": {
          "iopub.status.busy": "2021-08-09T21:23:08.892112Z",
          "iopub.execute_input": "2021-08-09T21:23:08.892903Z",
          "iopub.status.idle": "2021-08-09T21:23:13.923533Z",
          "shell.execute_reply.started": "2021-08-09T21:23:08.892817Z",
          "shell.execute_reply": "2021-08-09T21:23:13.922306Z"
        },
        "trusted": true,
        "id": "P7_Hbei9kwiE",
        "colab": {
          "base_uri": "https://localhost:8080/"
        },
        "outputId": "b856de6e-5aca-4e02-eaa3-5142d42f7fdc"
      },
      "source": [
        "import os\n",
        "import cv2\n",
        "import gc\n",
        "import numpy as np\n",
        "import pandas as pd\n",
        "import itertools\n",
        "from tqdm.autonotebook import tqdm\n",
        "import albumentations as A\n",
        "import matplotlib.pyplot as plt\n",
        "\n",
        "import torch\n",
        "from torch import nn\n",
        "import torch.nn.functional as F\n",
        "import timm\n",
        "from transformers import DistilBertModel, DistilBertConfig, DistilBertTokenizer"
      ],
      "execution_count": 5,
      "outputs": [
        {
          "output_type": "stream",
          "text": [
            "/usr/local/lib/python3.7/dist-packages/ipykernel_launcher.py:7: TqdmExperimentalWarning: Using `tqdm.autonotebook.tqdm` in notebook mode. Use `tqdm.tqdm` instead to force console mode (e.g. in jupyter console)\n",
            "  import sys\n"
          ],
          "name": "stderr"
        }
      ]
    },
    {
      "cell_type": "markdown",
      "metadata": {
        "id": "1TrosUNBsyH8"
      },
      "source": [
        "### Preprocesamiento"
      ]
    },
    {
      "cell_type": "code",
      "metadata": {
        "execution": {
          "iopub.status.busy": "2021-08-09T21:23:15.858679Z",
          "iopub.execute_input": "2021-08-09T21:23:15.859243Z",
          "iopub.status.idle": "2021-08-09T21:23:15.867959Z",
          "shell.execute_reply.started": "2021-08-09T21:23:15.859203Z",
          "shell.execute_reply": "2021-08-09T21:23:15.866913Z"
        },
        "trusted": true,
        "id": "b4oeI2OTkwiG"
      },
      "source": [
        "os.chdir('/content/')\n",
        "image_path = \"/content/train\"\n",
        "captions_path = \"/content\""
      ],
      "execution_count": 6,
      "outputs": []
    },
    {
      "cell_type": "code",
      "metadata": {
        "execution": {
          "iopub.status.busy": "2021-08-09T21:23:08.882036Z",
          "iopub.execute_input": "2021-08-09T21:23:08.882425Z",
          "iopub.status.idle": "2021-08-09T21:23:08.889272Z",
          "shell.execute_reply.started": "2021-08-09T21:23:08.882382Z",
          "shell.execute_reply": "2021-08-09T21:23:08.888156Z"
        },
        "trusted": true,
        "id": "zAGoKsjykwiC"
      },
      "source": [
        "class Sentence(object):\n",
        "    def __init__(self, zipname):\n",
        "        self.zipname = zipname\n",
        " \n",
        "    def __iter__(self):\n",
        "      with ZipFile(self.zipname, 'r') as zip_file:\n",
        "        # Get list of files names in zip\n",
        "        fname_list = zip_file.namelist()\n",
        "        for fname in tqdm(fname_list):\n",
        "          with zip_file.open(fname, 'r') as file:\n",
        "            for line in file.readlines():\n",
        "              token_list = line.decode('utf-8').strip().split()\n",
        "              if len(token_list):\n",
        "                yield to"
      ],
      "execution_count": 7,
      "outputs": []
    },
    {
      "cell_type": "markdown",
      "metadata": {
        "id": "qCPFo40EtTJU"
      },
      "source": [
        "### Hiper-parámetros"
      ]
    },
    {
      "cell_type": "code",
      "metadata": {
        "execution": {
          "iopub.status.busy": "2021-08-09T21:23:15.876367Z",
          "iopub.execute_input": "2021-08-09T21:23:15.881686Z",
          "iopub.status.idle": "2021-08-09T21:23:15.953553Z",
          "shell.execute_reply.started": "2021-08-09T21:23:15.881637Z",
          "shell.execute_reply": "2021-08-09T21:23:15.952338Z"
        },
        "trusted": true,
        "id": "uXkgAP-tkwiH"
      },
      "source": [
        "class CFG:\n",
        "    debug = False\n",
        "    image_path = image_path\n",
        "    captions_path = captions_path\n",
        "    batch_size = 32\n",
        "    num_workers = 2\n",
        "    head_lr = 1e-3\n",
        "    image_encoder_lr = 1e-4\n",
        "    text_encoder_lr = 1e-5\n",
        "    weight_decay = 1e-3\n",
        "    patience = 1\n",
        "    factor = 0.8\n",
        "    epochs = 4\n",
        "    device = torch.device(\"cuda\" if torch.cuda.is_available() else \"cpu\")\n",
        "\n",
        "    model_name = 'resnet50'\n",
        "    image_embedding = 2048\n",
        "    text_encoder_model = \"distilbert-base-uncased\"\n",
        "    text_embedding = 768\n",
        "    text_tokenizer = \"distilbert-base-uncased\"\n",
        "    max_length = 200\n",
        "\n",
        "    pretrained = True # for both image encoder and text encoder\n",
        "    trainable = True # for both image encoder and text encoder\n",
        "    temperature = 1.0\n",
        "\n",
        "    # image size\n",
        "    size = 224\n",
        "\n",
        "    # for projection head; used for both image and text encoders\n",
        "    num_projection_layers = 1\n",
        "    projection_dim = 256 \n",
        "    dropout = 0.1"
      ],
      "execution_count": 8,
      "outputs": []
    },
    {
      "cell_type": "markdown",
      "metadata": {
        "id": "ayyxPR0iuGvz"
      },
      "source": [
        "### Funciones Auxiliares"
      ]
    },
    {
      "cell_type": "code",
      "metadata": {
        "execution": {
          "iopub.status.busy": "2021-08-09T21:23:15.955421Z",
          "iopub.execute_input": "2021-08-09T21:23:15.955873Z",
          "iopub.status.idle": "2021-08-09T21:23:15.970288Z",
          "shell.execute_reply.started": "2021-08-09T21:23:15.955831Z",
          "shell.execute_reply": "2021-08-09T21:23:15.969159Z"
        },
        "trusted": true,
        "id": "t1W1jzNrkwiK"
      },
      "source": [
        "class AvgMeter:\n",
        "    def __init__(self, name=\"Metric\"):\n",
        "        self.name = name\n",
        "        self.reset()\n",
        "\n",
        "    def reset(self):\n",
        "        self.avg, self.sum, self.count = [0] * 3\n",
        "\n",
        "    def update(self, val, count=1):\n",
        "        self.count += count\n",
        "        self.sum += val * count\n",
        "        self.avg = self.sum / self.count\n",
        "\n",
        "    def __repr__(self):\n",
        "        text = f\"{self.name}: {self.avg:.4f}\"\n",
        "        return text\n",
        "\n",
        "def get_lr(optimizer):\n",
        "    for param_group in optimizer.param_groups:\n",
        "        return param_group[\"lr\"]\n"
      ],
      "execution_count": 9,
      "outputs": []
    },
    {
      "cell_type": "markdown",
      "metadata": {
        "id": "Mh27I61IuLGY"
      },
      "source": [
        "### Codificación"
      ]
    },
    {
      "cell_type": "markdown",
      "metadata": {
        "id": "ZmmHAZbkuRpV"
      },
      "source": [
        "Es necesario codificar tanto imagenes como su descripción textual. Siendo nuestro codificador de textos el modelo **DistilBert** de la libreria **HuggingFace**."
      ]
    },
    {
      "cell_type": "code",
      "metadata": {
        "execution": {
          "iopub.status.busy": "2021-08-09T21:23:15.974983Z",
          "iopub.execute_input": "2021-08-09T21:23:15.975548Z",
          "iopub.status.idle": "2021-08-09T21:23:15.988755Z",
          "shell.execute_reply.started": "2021-08-09T21:23:15.975514Z",
          "shell.execute_reply": "2021-08-09T21:23:15.987317Z"
        },
        "trusted": true,
        "id": "VQ8UnknOkwiL"
      },
      "source": [
        "class CLIPDataset(torch.utils.data.Dataset):\n",
        "    def __init__(self, image_filenames, captions, tokenizer, transforms):\n",
        "        \"\"\"\n",
        "        image_filenames and cpations must have the same length; so, if there are\n",
        "        multiple captions for each image, the image_filenames must have repetitive\n",
        "        file names \n",
        "        \"\"\"\n",
        "\n",
        "        self.image_filenames = image_filenames\n",
        "        self.captions = list(captions)\n",
        "        self.encoded_captions = tokenizer(\n",
        "            list(captions), padding=True, truncation=True, max_length=CFG.max_length\n",
        "        )\n",
        "        self.transforms = transforms\n",
        "\n",
        "    def __getitem__(self, idx):\n",
        "        item = {\n",
        "            key: torch.tensor(values[idx])\n",
        "            for key, values in self.encoded_captions.items()\n",
        "        }\n",
        "\n",
        "        image = cv2.imread(f\"{CFG.image_path}/{self.image_filenames[idx]}\")\n",
        "        image = cv2.cvtColor(image, cv2.COLOR_BGR2RGB)\n",
        "        image = self.transforms(image=image)['image']\n",
        "        item['image'] = torch.tensor(image).permute(2, 0, 1).float()\n",
        "        item['caption'] = self.captions[idx]\n",
        "\n",
        "        return item\n",
        "\n",
        "\n",
        "    def __len__(self):\n",
        "        return len(self.captions)\n",
        "\n",
        "\n",
        "\n",
        "def get_transforms(mode=\"train\"):\n",
        "    if mode == \"train\":\n",
        "        return A.Compose(\n",
        "            [\n",
        "                A.Resize(CFG.size, CFG.size, always_apply=True),\n",
        "                A.Normalize(max_pixel_value=255.0, always_apply=True),\n",
        "            ]\n",
        "        )\n",
        "    else:\n",
        "        return A.Compose(\n",
        "            [\n",
        "                A.Resize(CFG.size, CFG.size, always_apply=True),\n",
        "                A.Normalize(max_pixel_value=255.0, always_apply=True),\n",
        "            ]\n",
        "        )"
      ],
      "execution_count": 10,
      "outputs": []
    },
    {
      "cell_type": "markdown",
      "metadata": {
        "id": "PZXlW4IyvK-m"
      },
      "source": [
        "### Codificador de Imagenes"
      ]
    },
    {
      "cell_type": "markdown",
      "metadata": {
        "id": "foR_1cMMvP0_"
      },
      "source": [
        "Se usa un modelo de imagenes ResNet50 mediante la  libreria de modelos de imagenes de PyThorch (timm)."
      ]
    },
    {
      "cell_type": "code",
      "metadata": {
        "execution": {
          "iopub.status.busy": "2021-08-09T21:23:15.991442Z",
          "iopub.execute_input": "2021-08-09T21:23:15.992197Z",
          "iopub.status.idle": "2021-08-09T21:23:16.003071Z",
          "shell.execute_reply.started": "2021-08-09T21:23:15.992141Z",
          "shell.execute_reply": "2021-08-09T21:23:16.001843Z"
        },
        "trusted": true,
        "id": "fA2e1BnkkwiM"
      },
      "source": [
        "class ImageEncoder(nn.Module):\n",
        "    \"\"\"\n",
        "    Encode images to a fixed size vector\n",
        "    \"\"\"\n",
        "\n",
        "    def __init__(\n",
        "        self, model_name=CFG.model_name, pretrained=CFG.pretrained, trainable=CFG.trainable\n",
        "    ):\n",
        "        super().__init__()\n",
        "        self.model = timm.create_model(\n",
        "            model_name, pretrained, num_classes=0, global_pool=\"avg\"\n",
        "        )\n",
        "        for p in self.model.parameters():\n",
        "            p.requires_grad = trainable\n",
        "\n",
        "    def forward(self, x):\n",
        "        return self.model(x)"
      ],
      "execution_count": 11,
      "outputs": []
    },
    {
      "cell_type": "markdown",
      "metadata": {
        "id": "vSqh5BezwdEv"
      },
      "source": [
        "### Codificador de Texto"
      ]
    },
    {
      "cell_type": "code",
      "metadata": {
        "execution": {
          "iopub.status.busy": "2021-08-09T21:23:16.004722Z",
          "iopub.execute_input": "2021-08-09T21:23:16.005198Z",
          "iopub.status.idle": "2021-08-09T21:23:16.019789Z",
          "shell.execute_reply.started": "2021-08-09T21:23:16.005139Z",
          "shell.execute_reply": "2021-08-09T21:23:16.018527Z"
        },
        "trusted": true,
        "id": "uoHNhe5DkwiN"
      },
      "source": [
        "class TextEncoder(nn.Module):\n",
        "    def __init__(self, model_name=CFG.text_encoder_model, pretrained=CFG.pretrained, trainable=CFG.trainable):\n",
        "        super().__init__()\n",
        "        if pretrained:\n",
        "            self.model = DistilBertModel.from_pretrained(model_name)\n",
        "        else:\n",
        "            self.model = DistilBertModel(config=DistilBertConfig())\n",
        "            \n",
        "        for p in self.model.parameters():\n",
        "            p.requires_grad = trainable\n",
        "\n",
        "        # we are using the CLS token hidden representation as the sentence's embedding\n",
        "        self.target_token_idx = 0\n",
        "\n",
        "    def forward(self, input_ids, attention_mask):\n",
        "        output = self.model(input_ids=input_ids, attention_mask=attention_mask)\n",
        "        last_hidden_state = output.last_hidden_state\n",
        "        return last_hidden_state[:, self.target_token_idx, :]"
      ],
      "execution_count": 12,
      "outputs": []
    },
    {
      "cell_type": "markdown",
      "metadata": {
        "id": "xA92L-0uwxm9"
      },
      "source": [
        "### Proyección"
      ]
    },
    {
      "cell_type": "markdown",
      "metadata": {
        "id": "TB5-v_Lw19Gp"
      },
      "source": [
        "Se codifican textos e imagenes en vectores del mismo tamaño para poder comparar y eliminar combinaciones no relevantes y unir los que coinciden."
      ]
    },
    {
      "cell_type": "code",
      "metadata": {
        "execution": {
          "iopub.status.busy": "2021-08-09T21:23:16.021459Z",
          "iopub.execute_input": "2021-08-09T21:23:16.022133Z",
          "iopub.status.idle": "2021-08-09T21:23:16.032298Z",
          "shell.execute_reply.started": "2021-08-09T21:23:16.022091Z",
          "shell.execute_reply": "2021-08-09T21:23:16.03083Z"
        },
        "trusted": true,
        "id": "aBNGbRvykwiO"
      },
      "source": [
        "class ProjectionHead(nn.Module):\n",
        "    def __init__(\n",
        "        self,\n",
        "        embedding_dim,\n",
        "        projection_dim=CFG.projection_dim,\n",
        "        dropout=CFG.dropout\n",
        "    ):\n",
        "        super().__init__()\n",
        "        self.projection = nn.Linear(embedding_dim, projection_dim)\n",
        "        self.gelu = nn.GELU()\n",
        "        self.fc = nn.Linear(projection_dim, projection_dim)\n",
        "        self.dropout = nn.Dropout(dropout)\n",
        "        self.layer_norm = nn.LayerNorm(projection_dim)\n",
        "    \n",
        "    def forward(self, x):\n",
        "        projected = self.projection(x)\n",
        "        x = self.gelu(projected)\n",
        "        x = self.fc(x)\n",
        "        x = self.dropout(x)\n",
        "        x = x + projected\n",
        "        x = self.layer_norm(x)\n",
        "        return x"
      ],
      "execution_count": 13,
      "outputs": []
    },
    {
      "cell_type": "markdown",
      "metadata": {
        "id": "4BBX5-Oq2Ex6"
      },
      "source": [
        "### CLIP"
      ]
    },
    {
      "cell_type": "markdown",
      "metadata": {
        "id": "869jzj1g2Gtz"
      },
      "source": [
        "Se usan los modulos anteriores para implementar el modelo principal. "
      ]
    },
    {
      "cell_type": "code",
      "metadata": {
        "execution": {
          "iopub.status.busy": "2021-08-09T21:23:16.034604Z",
          "iopub.execute_input": "2021-08-09T21:23:16.035224Z",
          "iopub.status.idle": "2021-08-09T21:23:16.051798Z",
          "shell.execute_reply.started": "2021-08-09T21:23:16.035181Z",
          "shell.execute_reply": "2021-08-09T21:23:16.050597Z"
        },
        "trusted": true,
        "id": "0Wf_6QpQkwiP"
      },
      "source": [
        "class CLIPModel(nn.Module):\n",
        "    def __init__(\n",
        "        self,\n",
        "        temperature=CFG.temperature,\n",
        "        image_embedding=CFG.image_embedding,\n",
        "        text_embedding=CFG.text_embedding,\n",
        "    ):\n",
        "        super().__init__()\n",
        "        self.image_encoder = ImageEncoder()\n",
        "        self.text_encoder = TextEncoder()\n",
        "        self.image_projection = ProjectionHead(embedding_dim=image_embedding)\n",
        "        self.text_projection = ProjectionHead(embedding_dim=text_embedding)\n",
        "        self.temperature = temperature\n",
        "\n",
        "    def forward(self, batch):\n",
        "        # Getting Image and Text Features\n",
        "        image_features = self.image_encoder(batch[\"image\"])\n",
        "        text_features = self.text_encoder(\n",
        "            input_ids=batch[\"input_ids\"], attention_mask=batch[\"attention_mask\"]\n",
        "        )\n",
        "        # Getting Image and Text Embeddings (with same dimension)\n",
        "        image_embeddings = self.image_projection(image_features)\n",
        "        text_embeddings = self.text_projection(text_features)\n",
        "\n",
        "        # Calculating the Loss\n",
        "        logits = (text_embeddings @ image_embeddings.T) / self.temperature\n",
        "        images_similarity = image_embeddings @ image_embeddings.T\n",
        "        texts_similarity = text_embeddings @ text_embeddings.T\n",
        "        targets = F.softmax(\n",
        "            (images_similarity + texts_similarity) / 2 * self.temperature, dim=-1\n",
        "        )\n",
        "        texts_loss = cross_entropy(logits, targets, reduction='none')\n",
        "        images_loss = cross_entropy(logits.T, targets.T, reduction='none')\n",
        "        loss =  (images_loss + texts_loss) / 2.0 # shape: (batch_size)\n",
        "        return loss.mean()\n",
        "\n",
        "\n",
        "def cross_entropy(preds, targets, reduction='none'):\n",
        "    log_softmax = nn.LogSoftmax(dim=-1)\n",
        "    loss = (-targets * log_softmax(preds)).sum(1)\n",
        "    if reduction == \"none\":\n",
        "        return loss\n",
        "    elif reduction == \"mean\":\n",
        "        return loss.mean()"
      ],
      "execution_count": 14,
      "outputs": []
    },
    {
      "cell_type": "markdown",
      "metadata": {
        "id": "FoS4qU482KDE"
      },
      "source": [
        "### Entrenamiento"
      ]
    },
    {
      "cell_type": "markdown",
      "metadata": {
        "id": "untrFJSH8xP6"
      },
      "source": [
        "Se generan barras de carga para el modelo."
      ]
    },
    {
      "cell_type": "code",
      "metadata": {
        "execution": {
          "iopub.status.busy": "2021-08-09T21:23:16.053143Z",
          "iopub.execute_input": "2021-08-09T21:23:16.053637Z",
          "iopub.status.idle": "2021-08-09T21:23:16.068595Z",
          "shell.execute_reply.started": "2021-08-09T21:23:16.053593Z",
          "shell.execute_reply": "2021-08-09T21:23:16.067539Z"
        },
        "trusted": true,
        "id": "P9t26SeAkwiP"
      },
      "source": [
        "def get_train_file_path(image_id):\n",
        "    return \"/{}/{}/{}/{}.png\".format(\n",
        "        image_id[0], image_id[1], image_id[2], image_id \n",
        "    )\n",
        "\n",
        "def make_train_valid_dfs():\n",
        "    dataframe = pd.read_csv(f\"{CFG.captions_path}/train_labels.csv\")\n",
        "    dataframe['image'] = dataframe['image_id'].apply(get_train_file_path)\n",
        "    dataframe = dataframe.head(1000)\n",
        "    dataframe['caption']=dataframe['InChI']\n",
        "    dataframe['id'] = np.arange(0, len(dataframe))\n",
        "    image_ids = np.arange(0, len(dataframe))\n",
        "    np.random.seed(42)\n",
        "    valid_ids = np.random.choice(\n",
        "        image_ids, size=int(0.2 * len(image_ids)), replace=False\n",
        "    )\n",
        "    train_ids = [id_ for id_ in image_ids if id_ not in valid_ids]\n",
        "    train_dataframe = dataframe[dataframe[\"id\"].isin(train_ids)].reset_index(drop=True)\n",
        "    valid_dataframe = dataframe[dataframe[\"id\"].isin(valid_ids)].reset_index(drop=True)\n",
        "    return train_dataframe, valid_dataframe\n",
        "\n",
        "\n",
        "def build_loaders(dataframe, tokenizer, mode):\n",
        "    transforms = get_transforms(mode=mode)\n",
        "    dataset = CLIPDataset(\n",
        "        dataframe[\"image\"].values,\n",
        "        dataframe[\"caption\"].values,\n",
        "        tokenizer=tokenizer,\n",
        "        transforms=transforms,\n",
        "    )\n",
        "    dataloader = torch.utils.data.DataLoader(\n",
        "        dataset,\n",
        "        batch_size=CFG.batch_size,\n",
        "        num_workers=CFG.num_workers,\n",
        "        shuffle=True if mode == \"train\" else False,\n",
        "    )\n",
        "    return dataloader"
      ],
      "execution_count": 15,
      "outputs": []
    },
    {
      "cell_type": "markdown",
      "metadata": {
        "id": "cgUb-y142XHo"
      },
      "source": [
        ""
      ]
    },
    {
      "cell_type": "code",
      "metadata": {
        "execution": {
          "iopub.status.busy": "2021-08-09T21:23:16.072564Z",
          "iopub.execute_input": "2021-08-09T21:23:16.073008Z",
          "iopub.status.idle": "2021-08-09T21:23:16.094428Z",
          "shell.execute_reply.started": "2021-08-09T21:23:16.072977Z",
          "shell.execute_reply": "2021-08-09T21:23:16.093088Z"
        },
        "trusted": true,
        "id": "tKySLfIOkwiQ"
      },
      "source": [
        "def train_epoch(model, train_loader, optimizer, lr_scheduler, step):\n",
        "    loss_meter = AvgMeter()\n",
        "    tqdm_object = tqdm(train_loader, total=len(train_loader))\n",
        "    for batch in tqdm_object:\n",
        "        batch = {k: v.to(CFG.device) for k, v in batch.items() if k != \"caption\"}\n",
        "        loss = model(batch)\n",
        "        optimizer.zero_grad()\n",
        "        loss.backward()\n",
        "        optimizer.step()\n",
        "        if step == \"batch\":\n",
        "            lr_scheduler.step()\n",
        "\n",
        "        count = batch[\"image\"].size(0)\n",
        "        loss_meter.update(loss.item(), count)\n",
        "\n",
        "        tqdm_object.set_postfix(train_loss=loss_meter.avg, lr=get_lr(optimizer))\n",
        "    return loss_meter\n",
        "\n",
        "\n",
        "def valid_epoch(model, valid_loader):\n",
        "    loss_meter = AvgMeter()\n",
        "\n",
        "    tqdm_object = tqdm(valid_loader, total=len(valid_loader))\n",
        "    for batch in tqdm_object:\n",
        "        batch = {k: v.to(CFG.device) for k, v in batch.items() if k != \"caption\"}\n",
        "        loss = model(batch)\n",
        "\n",
        "        count = batch[\"image\"].size(0)\n",
        "        loss_meter.update(loss.item(), count)\n",
        "\n",
        "        tqdm_object.set_postfix(valid_loss=loss_meter.avg)\n",
        "    return loss_meter\n",
        "\n",
        "\n",
        "def main():\n",
        "    train_df, valid_df = make_train_valid_dfs()\n",
        "    tokenizer = DistilBertTokenizer.from_pretrained(CFG.text_tokenizer)\n",
        "    train_loader = build_loaders(train_df, tokenizer, mode=\"train\")\n",
        "    valid_loader = build_loaders(valid_df, tokenizer, mode=\"valid\")\n",
        "\n",
        "\n",
        "    model = CLIPModel().to(CFG.device)\n",
        "    params = [\n",
        "        {\"params\": model.image_encoder.parameters(), \"lr\": CFG.image_encoder_lr},\n",
        "        {\"params\": model.text_encoder.parameters(), \"lr\": CFG.text_encoder_lr},\n",
        "        {\"params\": itertools.chain(\n",
        "            model.image_projection.parameters(), model.text_projection.parameters()\n",
        "        ), \"lr\": CFG.head_lr, \"weight_decay\": CFG.weight_decay}\n",
        "    ]\n",
        "    optimizer = torch.optim.AdamW(params, weight_decay=0.)\n",
        "    lr_scheduler = torch.optim.lr_scheduler.ReduceLROnPlateau(\n",
        "        optimizer, mode=\"min\", patience=CFG.patience, factor=CFG.factor\n",
        "    )\n",
        "    step = \"epoch\"\n",
        "           \n",
        "    best_loss = float('inf')\n",
        "    for epoch in range(CFG.epochs):\n",
        "        print(f\"Epoch: {epoch + 1}\")\n",
        "        model.train()\n",
        "        train_loss = train_epoch(model, train_loader, optimizer, lr_scheduler, step)\n",
        "        model.eval()\n",
        "        with torch.no_grad():\n",
        "            valid_loss = valid_epoch(model, valid_loader)\n",
        "        \n",
        "        if valid_loss.avg < best_loss:\n",
        "            best_loss = valid_loss.avg\n",
        "            torch.save(model.state_dict(), \"best.pt\")\n",
        "            print(\"Saved Best Model!\")\n",
        "        \n",
        "        lr_scheduler.step(valid_loss.avg)"
      ],
      "execution_count": 16,
      "outputs": []
    },
    {
      "cell_type": "code",
      "metadata": {
        "execution": {
          "iopub.status.busy": "2021-08-09T21:23:16.096422Z",
          "iopub.execute_input": "2021-08-09T21:23:16.096966Z"
        },
        "trusted": true,
        "id": "e0ZfMlCwkwiR",
        "colab": {
          "base_uri": "https://localhost:8080/",
          "height": 679,
          "referenced_widgets": [
            "d234ed7f0b82464da34c509eb54b4e7b",
            "38255d5e1dd549eba0247fe91caaba7d",
            "41613ce8ba8c4e42b34fabee48eecfc2",
            "aaaa95cb12544d7a8a59d297233dacd2",
            "3e147a8707f049249784dba5ca7d02a6",
            "174045c444c449a3986cf256dc6097ec",
            "4a0bccbc8ad04d63a625584204c78dce",
            "12d70e3e48f84797a861da8ad5df35c2",
            "0ab1e5d2080545c1a935598e42070503",
            "534c0d536f5045309353a570b916b935",
            "b3014fe46bfa478aa40e293724dacffe",
            "256937a566834e6a86721f0ec3b382b6",
            "099bbb9aac834002a7e56588163d5e69",
            "21fa641b504f48fa9c1405e479645c43",
            "3c909014847c4187aacdf6c6784c60b3",
            "d46a2a3c39a349acbbcd900f3d5b1602",
            "d5aadc0740b64031a5a304621c418577",
            "980bebec5d9f4de086a8ece41b221381",
            "e95d0b8fe8a54188b7bddcfebfeaff64",
            "17c9035232a24ce69471a68352b23963",
            "62c55b2395554b98841ce62bba6ff005",
            "2396f4f1ba484ebcac6f1523d144d96d",
            "6d5b1f1dcdb84854b50d583c36ccae37",
            "d3e050661a7e49b18e68d9c20d48e981",
            "f7dd5e5d3d2147498b04b40b5f0513ab",
            "0ee752de049f405ab6e74b40e15d8332",
            "ea6763774598455e8b6385207ae15235",
            "8ebd1a6df41448798c914fff6950dc77",
            "d71483d473e6482c8cbcc0935b12fb5c",
            "cfc769d5367c4871ada91956c58e31e8",
            "f86156de845849a39b3dd70c98b0cf5f",
            "0578b3ff03e6459ca67b682cc465eb5e",
            "c66acebd283d43ad840d26cad5543658",
            "7ee14a9e2fce4f9c992d2c741890f133",
            "e4e2dfce2aa345f0a9c7ff2ffdebd023",
            "78d911589a9346fbbcdeafd9a24ee0e7",
            "6b96062b94d2448082604902d7a7938f",
            "f7cb5b85ec8447b9aaf79cf464193a73",
            "4c184db85a6f4af5ab83bfcccceb8498",
            "55c3e88c841c4751926ddbd6d7ccd078",
            "653a3e2f8d0d47bbb833537fb23316f1",
            "e32e865f97ee4384a698d72a16bcbdb4",
            "9fcccf09cb854063b07b6024777c2ad4",
            "cffd4b3461454f5fac34072a6e74a983",
            "199ca31321644fbdadf774b4a2961dcb",
            "582506a6a38c4a78811fa49c3dd23b0e",
            "5b62d09d6735444080b961c76410a6e2",
            "6704accc4f4f46aab390fbd4008035de",
            "5f06caf2561248cc8cf9e02d61435bb6",
            "2347e9a8d1cb430ab819d4fd37582cda",
            "183374584cd54c89b9914c5763e677c0",
            "6ac51cfaa3d04c5f9a3200c491114ecc",
            "0765c76a91b24fa4a20bc5de0ec25177",
            "4f3464715d0c41488527d4eec23610c4",
            "a45a13acb63a483ebebbc543d7a0390c",
            "e5674cb008444831bdd082f23b17c42b",
            "da1ba38a662447d3a54cb5748d333660",
            "a6d0743d153340f7821e61059f36ceee",
            "f552c27732eb44b3be251d69696f6750",
            "0f68c3d80990477081a26c28d6dbb689",
            "70094c9a46754827ababdb312b39eea8",
            "06749c255d72453fa3655680d0bbb2ca",
            "7c6dc21aba5f4b4ea48411f20a192d1c",
            "28cfc61c6c9e4cf6a635c89e1d10c985"
          ]
        },
        "outputId": "43d19024-0f1b-4613-c481-a0a36fc84988"
      },
      "source": [
        "main()"
      ],
      "execution_count": 17,
      "outputs": [
        {
          "output_type": "stream",
          "text": [
            "Some weights of the model checkpoint at distilbert-base-uncased were not used when initializing DistilBertModel: ['vocab_layer_norm.bias', 'vocab_transform.bias', 'vocab_projector.bias', 'vocab_layer_norm.weight', 'vocab_transform.weight', 'vocab_projector.weight']\n",
            "- This IS expected if you are initializing DistilBertModel from the checkpoint of a model trained on another task or with another architecture (e.g. initializing a BertForSequenceClassification model from a BertForPreTraining model).\n",
            "- This IS NOT expected if you are initializing DistilBertModel from the checkpoint of a model that you expect to be exactly identical (initializing a BertForSequenceClassification model from a BertForSequenceClassification model).\n"
          ],
          "name": "stderr"
        },
        {
          "output_type": "stream",
          "text": [
            "Epoch: 1\n"
          ],
          "name": "stdout"
        },
        {
          "output_type": "display_data",
          "data": {
            "application/vnd.jupyter.widget-view+json": {
              "model_id": "d234ed7f0b82464da34c509eb54b4e7b",
              "version_minor": 0,
              "version_major": 2
            },
            "text/plain": [
              "HBox(children=(FloatProgress(value=0.0, max=25.0), HTML(value='')))"
            ]
          },
          "metadata": {
            "tags": []
          }
        },
        {
          "output_type": "stream",
          "text": [
            "/usr/local/lib/python3.7/dist-packages/torch/nn/functional.py:718: UserWarning: Named tensors and all their associated APIs are an experimental feature and subject to change. Please do not use them for anything important until they are released as stable. (Triggered internally at  /pytorch/c10/core/TensorImpl.h:1156.)\n",
            "  return torch.max_pool2d(input, kernel_size, stride, padding, dilation, ceil_mode)\n"
          ],
          "name": "stderr"
        },
        {
          "output_type": "stream",
          "text": [
            "\n"
          ],
          "name": "stdout"
        },
        {
          "output_type": "display_data",
          "data": {
            "application/vnd.jupyter.widget-view+json": {
              "model_id": "0ab1e5d2080545c1a935598e42070503",
              "version_minor": 0,
              "version_major": 2
            },
            "text/plain": [
              "HBox(children=(FloatProgress(value=0.0, max=7.0), HTML(value='')))"
            ]
          },
          "metadata": {
            "tags": []
          }
        },
        {
          "output_type": "stream",
          "text": [
            "\n",
            "Saved Best Model!\n",
            "Epoch: 2\n"
          ],
          "name": "stdout"
        },
        {
          "output_type": "display_data",
          "data": {
            "application/vnd.jupyter.widget-view+json": {
              "model_id": "d5aadc0740b64031a5a304621c418577",
              "version_minor": 0,
              "version_major": 2
            },
            "text/plain": [
              "HBox(children=(FloatProgress(value=0.0, max=25.0), HTML(value='')))"
            ]
          },
          "metadata": {
            "tags": []
          }
        },
        {
          "output_type": "stream",
          "text": [
            "\n"
          ],
          "name": "stdout"
        },
        {
          "output_type": "display_data",
          "data": {
            "application/vnd.jupyter.widget-view+json": {
              "model_id": "f7dd5e5d3d2147498b04b40b5f0513ab",
              "version_minor": 0,
              "version_major": 2
            },
            "text/plain": [
              "HBox(children=(FloatProgress(value=0.0, max=7.0), HTML(value='')))"
            ]
          },
          "metadata": {
            "tags": []
          }
        },
        {
          "output_type": "stream",
          "text": [
            "\n",
            "Saved Best Model!\n",
            "Epoch: 3\n"
          ],
          "name": "stdout"
        },
        {
          "output_type": "display_data",
          "data": {
            "application/vnd.jupyter.widget-view+json": {
              "model_id": "c66acebd283d43ad840d26cad5543658",
              "version_minor": 0,
              "version_major": 2
            },
            "text/plain": [
              "HBox(children=(FloatProgress(value=0.0, max=25.0), HTML(value='')))"
            ]
          },
          "metadata": {
            "tags": []
          }
        },
        {
          "output_type": "stream",
          "text": [
            "\n"
          ],
          "name": "stdout"
        },
        {
          "output_type": "display_data",
          "data": {
            "application/vnd.jupyter.widget-view+json": {
              "model_id": "653a3e2f8d0d47bbb833537fb23316f1",
              "version_minor": 0,
              "version_major": 2
            },
            "text/plain": [
              "HBox(children=(FloatProgress(value=0.0, max=7.0), HTML(value='')))"
            ]
          },
          "metadata": {
            "tags": []
          }
        },
        {
          "output_type": "stream",
          "text": [
            "\n",
            "Saved Best Model!\n",
            "Epoch: 4\n"
          ],
          "name": "stdout"
        },
        {
          "output_type": "display_data",
          "data": {
            "application/vnd.jupyter.widget-view+json": {
              "model_id": "5f06caf2561248cc8cf9e02d61435bb6",
              "version_minor": 0,
              "version_major": 2
            },
            "text/plain": [
              "HBox(children=(FloatProgress(value=0.0, max=25.0), HTML(value='')))"
            ]
          },
          "metadata": {
            "tags": []
          }
        },
        {
          "output_type": "stream",
          "text": [
            "\n"
          ],
          "name": "stdout"
        },
        {
          "output_type": "display_data",
          "data": {
            "application/vnd.jupyter.widget-view+json": {
              "model_id": "da1ba38a662447d3a54cb5748d333660",
              "version_minor": 0,
              "version_major": 2
            },
            "text/plain": [
              "HBox(children=(FloatProgress(value=0.0, max=7.0), HTML(value='')))"
            ]
          },
          "metadata": {
            "tags": []
          }
        },
        {
          "output_type": "stream",
          "text": [
            "\n",
            "Saved Best Model!\n"
          ],
          "name": "stdout"
        }
      ]
    },
    {
      "cell_type": "markdown",
      "metadata": {
        "id": "l1BitT392ZPH"
      },
      "source": [
        "## Inferencia"
      ]
    },
    {
      "cell_type": "markdown",
      "metadata": {
        "id": "ounNTFpO2ryC"
      },
      "source": [
        "### Embedding"
      ]
    },
    {
      "cell_type": "markdown",
      "metadata": {
        "id": "3oqsh25V-hIR"
      },
      "source": [
        "Se carga el modelo anteriormente salvado y se retornan el embedding de las imagenes."
      ]
    },
    {
      "cell_type": "code",
      "metadata": {
        "trusted": true,
        "id": "92Q4j3wzkwiR"
      },
      "source": [
        "def get_image_embeddings(valid_df, model_path):\n",
        "    tokenizer = DistilBertTokenizer.from_pretrained(CFG.text_tokenizer)\n",
        "    valid_loader = build_loaders(valid_df, tokenizer, mode=\"valid\")\n",
        "    \n",
        "    model = CLIPModel().to(CFG.device)\n",
        "    model.load_state_dict(torch.load(model_path, map_location=CFG.device))\n",
        "    model.eval()\n",
        "    \n",
        "    valid_image_embeddings = []\n",
        "    with torch.no_grad():\n",
        "        for batch in tqdm(valid_loader):\n",
        "            image_features = model.image_encoder(batch[\"image\"].to(CFG.device))\n",
        "            image_embeddings = model.image_projection(image_features)\n",
        "            valid_image_embeddings.append(image_embeddings)\n",
        "    return model, torch.cat(valid_image_embeddings)"
      ],
      "execution_count": 18,
      "outputs": []
    },
    {
      "cell_type": "code",
      "metadata": {
        "trusted": true,
        "id": "RVes13i3kwiR",
        "colab": {
          "base_uri": "https://localhost:8080/",
          "height": 253,
          "referenced_widgets": [
            "b568f967976e468ab4bb5c2c142f4a41",
            "f48072bf8cb64d09a5e7dd0f0e724a63",
            "bc88dfc57dbc41078500af13fac400f6",
            "2cf221253b1d42f38aed6b09a2bdf3c9",
            "2c6e1f6e86f94db0b9c3d3b69469661a",
            "53b6c979b702442c92813dbc77604932",
            "4c12710f7d3d4cc6bf4759f066d0650d",
            "337cf3a6182c4f0589529019bd62197f"
          ]
        },
        "outputId": "c54eb43d-aea6-4d13-eb94-22989071fcda"
      },
      "source": [
        "_, valid_df = make_train_valid_dfs()\n",
        "model, image_embeddings = get_image_embeddings(valid_df, \"best.pt\")"
      ],
      "execution_count": 19,
      "outputs": [
        {
          "output_type": "stream",
          "text": [
            "/usr/local/lib/python3.7/dist-packages/ipykernel_launcher.py:10: SettingWithCopyWarning: \n",
            "A value is trying to be set on a copy of a slice from a DataFrame.\n",
            "Try using .loc[row_indexer,col_indexer] = value instead\n",
            "\n",
            "See the caveats in the documentation: https://pandas.pydata.org/pandas-docs/stable/user_guide/indexing.html#returning-a-view-versus-a-copy\n",
            "  # Remove the CWD from sys.path while we load stuff.\n",
            "Some weights of the model checkpoint at distilbert-base-uncased were not used when initializing DistilBertModel: ['vocab_layer_norm.bias', 'vocab_transform.bias', 'vocab_projector.bias', 'vocab_layer_norm.weight', 'vocab_transform.weight', 'vocab_projector.weight']\n",
            "- This IS expected if you are initializing DistilBertModel from the checkpoint of a model trained on another task or with another architecture (e.g. initializing a BertForSequenceClassification model from a BertForPreTraining model).\n",
            "- This IS NOT expected if you are initializing DistilBertModel from the checkpoint of a model that you expect to be exactly identical (initializing a BertForSequenceClassification model from a BertForSequenceClassification model).\n"
          ],
          "name": "stderr"
        },
        {
          "output_type": "display_data",
          "data": {
            "application/vnd.jupyter.widget-view+json": {
              "model_id": "b568f967976e468ab4bb5c2c142f4a41",
              "version_minor": 0,
              "version_major": 2
            },
            "text/plain": [
              "HBox(children=(FloatProgress(value=0.0, max=7.0), HTML(value='')))"
            ]
          },
          "metadata": {
            "tags": []
          }
        },
        {
          "output_type": "stream",
          "text": [
            "\n"
          ],
          "name": "stdout"
        }
      ]
    },
    {
      "cell_type": "markdown",
      "metadata": {
        "id": "9fdjZNHD3ikk"
      },
      "source": [
        "### Encontrando Coincidencias"
      ]
    },
    {
      "cell_type": "code",
      "metadata": {
        "trusted": true,
        "id": "xp0h7WKGkwiS"
      },
      "source": [
        "def find_matches(model, image_embeddings, query, image_filenames, n=9):\n",
        "    tokenizer = DistilBertTokenizer.from_pretrained(CFG.text_tokenizer)\n",
        "    encoded_query = tokenizer([query])\n",
        "    batch = {\n",
        "        key: torch.tensor(values).to(CFG.device)\n",
        "        for key, values in encoded_query.items()\n",
        "    }\n",
        "    with torch.no_grad():\n",
        "        text_features = model.text_encoder(\n",
        "            input_ids=batch[\"input_ids\"], attention_mask=batch[\"attention_mask\"]\n",
        "        )\n",
        "        text_embeddings = model.text_projection(text_features)\n",
        "    \n",
        "    image_embeddings_n = F.normalize(image_embeddings, p=2, dim=-1)\n",
        "    text_embeddings_n = F.normalize(text_embeddings, p=2, dim=-1)\n",
        "    dot_similarity = text_embeddings_n @ image_embeddings_n.T\n",
        "    \n",
        "    values, indices = torch.topk(dot_similarity.squeeze(0), n * 5)\n",
        "    matches = [image_filenames[idx] for idx in indices[::5]]\n",
        "    \n",
        "    _, axes = plt.subplots(3, 3, figsize=(10, 10))\n",
        "    for match, ax in zip(matches, axes.flatten()):\n",
        "        image = cv2.imread(f\"{CFG.image_path}/{match}\")\n",
        "        image = cv2.cvtColor(image, cv2.COLOR_BGR2RGB)\n",
        "        ax.imshow(image)\n",
        "        ax.axis(\"off\")\n",
        "    \n",
        "    plt.show()"
      ],
      "execution_count": 20,
      "outputs": []
    },
    {
      "cell_type": "code",
      "metadata": {
        "trusted": true,
        "id": "ci4gABFDkwiS",
        "colab": {
          "base_uri": "https://localhost:8080/",
          "height": 544
        },
        "outputId": "a9099ce0-fe39-4883-b143-ec14e4f103e3"
      },
      "source": [
        "find_matches(model, \n",
        "             image_embeddings,\n",
        "             query=\"InChI=1S/C23H32O6Si\",\n",
        "             image_filenames=valid_df['image'].values,\n",
        "             n=9)"
      ],
      "execution_count": 21,
      "outputs": [
        {
          "output_type": "display_data",
          "data": {
            "image/png": "[encoded data removed]",
            "text/plain": [
              "<Figure size 720x720 with 9 Axes>"
            ]
          },
          "metadata": {
            "tags": [],
            "needs_background": "light"
          }
        }
      ]
    }
  ]
}